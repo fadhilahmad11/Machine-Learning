{
  "nbformat": 4,
  "nbformat_minor": 0,
  "metadata": {
    "colab": {
      "provenance": [],
      "authorship_tag": "ABX9TyO5MWTO++WUIXR+RmlXoHqw",
      "include_colab_link": true
    },
    "kernelspec": {
      "name": "python3",
      "display_name": "Python 3"
    },
    "language_info": {
      "name": "python"
    }
  },
  "cells": [
    {
      "cell_type": "markdown",
      "metadata": {
        "id": "view-in-github",
        "colab_type": "text"
      },
      "source": [
        "<a href=\"https://colab.research.google.com/github/fadhilahmad11/Machine-Learning/blob/main/UAS/Classification_Models_MLP_%E2%80%93_predict_discrete_categories.ipynb\" target=\"_parent\"><img src=\"https://colab.research.google.com/assets/colab-badge.svg\" alt=\"Open In Colab\"/></a>"
      ]
    },
    {
      "cell_type": "code",
      "execution_count": 4,
      "metadata": {
        "colab": {
          "base_uri": "https://localhost:8080/"
        },
        "id": "4gizNW3tG1fZ",
        "outputId": "ee4fb7fa-86dd-4efb-9308-073c585a1158"
      },
      "outputs": [
        {
          "output_type": "stream",
          "name": "stdout",
          "text": [
            "Downloading...\n",
            "From (original): https://drive.google.com/uc?id=1au6HqbGWpBCszFFBjZ4YmdpnqhThnTlU\n",
            "From (redirected): https://drive.google.com/uc?id=1au6HqbGWpBCszFFBjZ4YmdpnqhThnTlU&confirm=t&uuid=4f423a57-76f6-4da6-8a5d-a681c978dd6f\n",
            "To: /content/KlasifikasiUTS.csv\n",
            "100% 151M/151M [00:00<00:00, 235MB/s]\n"
          ]
        }
      ],
      "source": [
        "!gdown 1au6HqbGWpBCszFFBjZ4YmdpnqhThnTlU"
      ]
    },
    {
      "cell_type": "code",
      "source": [
        "# Step 1: Install dan Import Library\n",
        "!pip install gdown scikit-learn pandas matplotlib seaborn tensorflow torch torchvision\n",
        "\n",
        "import gdown\n",
        "import pandas as pd\n",
        "import numpy as np\n",
        "import matplotlib.pyplot as plt\n",
        "import seaborn as sns\n",
        "\n",
        "from sklearn.model_selection import train_test_split\n",
        "from sklearn.preprocessing import StandardScaler, LabelEncoder\n"
      ],
      "metadata": {
        "colab": {
          "base_uri": "https://localhost:8080/"
        },
        "id": "fPRqmvPUce4l",
        "outputId": "c7323f94-5e07-4e29-892e-97daa728145b"
      },
      "execution_count": 5,
      "outputs": [
        {
          "output_type": "stream",
          "name": "stdout",
          "text": [
            "Requirement already satisfied: gdown in /usr/local/lib/python3.11/dist-packages (5.2.0)\n",
            "Requirement already satisfied: scikit-learn in /usr/local/lib/python3.11/dist-packages (1.6.1)\n",
            "Requirement already satisfied: pandas in /usr/local/lib/python3.11/dist-packages (2.2.2)\n",
            "Requirement already satisfied: matplotlib in /usr/local/lib/python3.11/dist-packages (3.10.0)\n",
            "Requirement already satisfied: seaborn in /usr/local/lib/python3.11/dist-packages (0.13.2)\n",
            "Requirement already satisfied: tensorflow in /usr/local/lib/python3.11/dist-packages (2.18.0)\n",
            "Requirement already satisfied: torch in /usr/local/lib/python3.11/dist-packages (2.6.0+cu124)\n",
            "Requirement already satisfied: torchvision in /usr/local/lib/python3.11/dist-packages (0.21.0+cu124)\n",
            "Requirement already satisfied: beautifulsoup4 in /usr/local/lib/python3.11/dist-packages (from gdown) (4.13.4)\n",
            "Requirement already satisfied: filelock in /usr/local/lib/python3.11/dist-packages (from gdown) (3.18.0)\n",
            "Requirement already satisfied: requests[socks] in /usr/local/lib/python3.11/dist-packages (from gdown) (2.32.3)\n",
            "Requirement already satisfied: tqdm in /usr/local/lib/python3.11/dist-packages (from gdown) (4.67.1)\n",
            "Requirement already satisfied: numpy>=1.19.5 in /usr/local/lib/python3.11/dist-packages (from scikit-learn) (2.0.2)\n",
            "Requirement already satisfied: scipy>=1.6.0 in /usr/local/lib/python3.11/dist-packages (from scikit-learn) (1.15.3)\n",
            "Requirement already satisfied: joblib>=1.2.0 in /usr/local/lib/python3.11/dist-packages (from scikit-learn) (1.5.1)\n",
            "Requirement already satisfied: threadpoolctl>=3.1.0 in /usr/local/lib/python3.11/dist-packages (from scikit-learn) (3.6.0)\n",
            "Requirement already satisfied: python-dateutil>=2.8.2 in /usr/local/lib/python3.11/dist-packages (from pandas) (2.9.0.post0)\n",
            "Requirement already satisfied: pytz>=2020.1 in /usr/local/lib/python3.11/dist-packages (from pandas) (2025.2)\n",
            "Requirement already satisfied: tzdata>=2022.7 in /usr/local/lib/python3.11/dist-packages (from pandas) (2025.2)\n",
            "Requirement already satisfied: contourpy>=1.0.1 in /usr/local/lib/python3.11/dist-packages (from matplotlib) (1.3.2)\n",
            "Requirement already satisfied: cycler>=0.10 in /usr/local/lib/python3.11/dist-packages (from matplotlib) (0.12.1)\n",
            "Requirement already satisfied: fonttools>=4.22.0 in /usr/local/lib/python3.11/dist-packages (from matplotlib) (4.58.1)\n",
            "Requirement already satisfied: kiwisolver>=1.3.1 in /usr/local/lib/python3.11/dist-packages (from matplotlib) (1.4.8)\n",
            "Requirement already satisfied: packaging>=20.0 in /usr/local/lib/python3.11/dist-packages (from matplotlib) (24.2)\n",
            "Requirement already satisfied: pillow>=8 in /usr/local/lib/python3.11/dist-packages (from matplotlib) (11.2.1)\n",
            "Requirement already satisfied: pyparsing>=2.3.1 in /usr/local/lib/python3.11/dist-packages (from matplotlib) (3.2.3)\n",
            "Requirement already satisfied: absl-py>=1.0.0 in /usr/local/lib/python3.11/dist-packages (from tensorflow) (1.4.0)\n",
            "Requirement already satisfied: astunparse>=1.6.0 in /usr/local/lib/python3.11/dist-packages (from tensorflow) (1.6.3)\n",
            "Requirement already satisfied: flatbuffers>=24.3.25 in /usr/local/lib/python3.11/dist-packages (from tensorflow) (25.2.10)\n",
            "Requirement already satisfied: gast!=0.5.0,!=0.5.1,!=0.5.2,>=0.2.1 in /usr/local/lib/python3.11/dist-packages (from tensorflow) (0.6.0)\n",
            "Requirement already satisfied: google-pasta>=0.1.1 in /usr/local/lib/python3.11/dist-packages (from tensorflow) (0.2.0)\n",
            "Requirement already satisfied: libclang>=13.0.0 in /usr/local/lib/python3.11/dist-packages (from tensorflow) (18.1.1)\n",
            "Requirement already satisfied: opt-einsum>=2.3.2 in /usr/local/lib/python3.11/dist-packages (from tensorflow) (3.4.0)\n",
            "Requirement already satisfied: protobuf!=4.21.0,!=4.21.1,!=4.21.2,!=4.21.3,!=4.21.4,!=4.21.5,<6.0.0dev,>=3.20.3 in /usr/local/lib/python3.11/dist-packages (from tensorflow) (5.29.5)\n",
            "Requirement already satisfied: setuptools in /usr/local/lib/python3.11/dist-packages (from tensorflow) (75.2.0)\n",
            "Requirement already satisfied: six>=1.12.0 in /usr/local/lib/python3.11/dist-packages (from tensorflow) (1.17.0)\n",
            "Requirement already satisfied: termcolor>=1.1.0 in /usr/local/lib/python3.11/dist-packages (from tensorflow) (3.1.0)\n",
            "Requirement already satisfied: typing-extensions>=3.6.6 in /usr/local/lib/python3.11/dist-packages (from tensorflow) (4.14.0)\n",
            "Requirement already satisfied: wrapt>=1.11.0 in /usr/local/lib/python3.11/dist-packages (from tensorflow) (1.17.2)\n",
            "Requirement already satisfied: grpcio<2.0,>=1.24.3 in /usr/local/lib/python3.11/dist-packages (from tensorflow) (1.72.1)\n",
            "Requirement already satisfied: tensorboard<2.19,>=2.18 in /usr/local/lib/python3.11/dist-packages (from tensorflow) (2.18.0)\n",
            "Requirement already satisfied: keras>=3.5.0 in /usr/local/lib/python3.11/dist-packages (from tensorflow) (3.8.0)\n",
            "Requirement already satisfied: h5py>=3.11.0 in /usr/local/lib/python3.11/dist-packages (from tensorflow) (3.13.0)\n",
            "Requirement already satisfied: ml-dtypes<0.5.0,>=0.4.0 in /usr/local/lib/python3.11/dist-packages (from tensorflow) (0.4.1)\n",
            "Requirement already satisfied: tensorflow-io-gcs-filesystem>=0.23.1 in /usr/local/lib/python3.11/dist-packages (from tensorflow) (0.37.1)\n",
            "Requirement already satisfied: networkx in /usr/local/lib/python3.11/dist-packages (from torch) (3.5)\n",
            "Requirement already satisfied: jinja2 in /usr/local/lib/python3.11/dist-packages (from torch) (3.1.6)\n",
            "Requirement already satisfied: fsspec in /usr/local/lib/python3.11/dist-packages (from torch) (2025.3.2)\n",
            "Requirement already satisfied: nvidia-cuda-nvrtc-cu12==12.4.127 in /usr/local/lib/python3.11/dist-packages (from torch) (12.4.127)\n",
            "Requirement already satisfied: nvidia-cuda-runtime-cu12==12.4.127 in /usr/local/lib/python3.11/dist-packages (from torch) (12.4.127)\n",
            "Requirement already satisfied: nvidia-cuda-cupti-cu12==12.4.127 in /usr/local/lib/python3.11/dist-packages (from torch) (12.4.127)\n",
            "Requirement already satisfied: nvidia-cudnn-cu12==9.1.0.70 in /usr/local/lib/python3.11/dist-packages (from torch) (9.1.0.70)\n",
            "Requirement already satisfied: nvidia-cublas-cu12==12.4.5.8 in /usr/local/lib/python3.11/dist-packages (from torch) (12.4.5.8)\n",
            "Requirement already satisfied: nvidia-cufft-cu12==11.2.1.3 in /usr/local/lib/python3.11/dist-packages (from torch) (11.2.1.3)\n",
            "Requirement already satisfied: nvidia-curand-cu12==10.3.5.147 in /usr/local/lib/python3.11/dist-packages (from torch) (10.3.5.147)\n",
            "Requirement already satisfied: nvidia-cusolver-cu12==11.6.1.9 in /usr/local/lib/python3.11/dist-packages (from torch) (11.6.1.9)\n",
            "Requirement already satisfied: nvidia-cusparse-cu12==12.3.1.170 in /usr/local/lib/python3.11/dist-packages (from torch) (12.3.1.170)\n",
            "Requirement already satisfied: nvidia-cusparselt-cu12==0.6.2 in /usr/local/lib/python3.11/dist-packages (from torch) (0.6.2)\n",
            "Requirement already satisfied: nvidia-nccl-cu12==2.21.5 in /usr/local/lib/python3.11/dist-packages (from torch) (2.21.5)\n",
            "Requirement already satisfied: nvidia-nvtx-cu12==12.4.127 in /usr/local/lib/python3.11/dist-packages (from torch) (12.4.127)\n",
            "Requirement already satisfied: nvidia-nvjitlink-cu12==12.4.127 in /usr/local/lib/python3.11/dist-packages (from torch) (12.4.127)\n",
            "Requirement already satisfied: triton==3.2.0 in /usr/local/lib/python3.11/dist-packages (from torch) (3.2.0)\n",
            "Requirement already satisfied: sympy==1.13.1 in /usr/local/lib/python3.11/dist-packages (from torch) (1.13.1)\n",
            "Requirement already satisfied: mpmath<1.4,>=1.1.0 in /usr/local/lib/python3.11/dist-packages (from sympy==1.13.1->torch) (1.3.0)\n",
            "Requirement already satisfied: wheel<1.0,>=0.23.0 in /usr/local/lib/python3.11/dist-packages (from astunparse>=1.6.0->tensorflow) (0.45.1)\n",
            "Requirement already satisfied: rich in /usr/local/lib/python3.11/dist-packages (from keras>=3.5.0->tensorflow) (13.9.4)\n",
            "Requirement already satisfied: namex in /usr/local/lib/python3.11/dist-packages (from keras>=3.5.0->tensorflow) (0.1.0)\n",
            "Requirement already satisfied: optree in /usr/local/lib/python3.11/dist-packages (from keras>=3.5.0->tensorflow) (0.16.0)\n",
            "Requirement already satisfied: charset-normalizer<4,>=2 in /usr/local/lib/python3.11/dist-packages (from requests[socks]->gdown) (3.4.2)\n",
            "Requirement already satisfied: idna<4,>=2.5 in /usr/local/lib/python3.11/dist-packages (from requests[socks]->gdown) (3.10)\n",
            "Requirement already satisfied: urllib3<3,>=1.21.1 in /usr/local/lib/python3.11/dist-packages (from requests[socks]->gdown) (2.4.0)\n",
            "Requirement already satisfied: certifi>=2017.4.17 in /usr/local/lib/python3.11/dist-packages (from requests[socks]->gdown) (2025.4.26)\n",
            "Requirement already satisfied: markdown>=2.6.8 in /usr/local/lib/python3.11/dist-packages (from tensorboard<2.19,>=2.18->tensorflow) (3.8)\n",
            "Requirement already satisfied: tensorboard-data-server<0.8.0,>=0.7.0 in /usr/local/lib/python3.11/dist-packages (from tensorboard<2.19,>=2.18->tensorflow) (0.7.2)\n",
            "Requirement already satisfied: werkzeug>=1.0.1 in /usr/local/lib/python3.11/dist-packages (from tensorboard<2.19,>=2.18->tensorflow) (3.1.3)\n",
            "Requirement already satisfied: soupsieve>1.2 in /usr/local/lib/python3.11/dist-packages (from beautifulsoup4->gdown) (2.7)\n",
            "Requirement already satisfied: MarkupSafe>=2.0 in /usr/local/lib/python3.11/dist-packages (from jinja2->torch) (3.0.2)\n",
            "Requirement already satisfied: PySocks!=1.5.7,>=1.5.6 in /usr/local/lib/python3.11/dist-packages (from requests[socks]->gdown) (1.7.1)\n",
            "Requirement already satisfied: markdown-it-py>=2.2.0 in /usr/local/lib/python3.11/dist-packages (from rich->keras>=3.5.0->tensorflow) (3.0.0)\n",
            "Requirement already satisfied: pygments<3.0.0,>=2.13.0 in /usr/local/lib/python3.11/dist-packages (from rich->keras>=3.5.0->tensorflow) (2.19.1)\n",
            "Requirement already satisfied: mdurl~=0.1 in /usr/local/lib/python3.11/dist-packages (from markdown-it-py>=2.2.0->rich->keras>=3.5.0->tensorflow) (0.1.2)\n"
          ]
        }
      ]
    },
    {
      "cell_type": "code",
      "source": [
        "import pandas as pd\n",
        "import matplotlib.pyplot as plt\n",
        "import seaborn as sns\n",
        "\n",
        "df = pd.read_csv('KlasifikasiUTS.csv')\n",
        "df\n",
        "\n",
        "print(df.info())\n",
        "print(df.head())"
      ],
      "metadata": {
        "colab": {
          "base_uri": "https://localhost:8080/"
        },
        "id": "lbPJSDy0MI2Z",
        "outputId": "1de1b34d-ae29-4cea-ae9a-1f0b51987108"
      },
      "execution_count": 6,
      "outputs": [
        {
          "output_type": "stream",
          "name": "stdout",
          "text": [
            "<class 'pandas.core.frame.DataFrame'>\n",
            "RangeIndex: 284807 entries, 0 to 284806\n",
            "Data columns (total 31 columns):\n",
            " #   Column  Non-Null Count   Dtype  \n",
            "---  ------  --------------   -----  \n",
            " 0   Time    284807 non-null  float64\n",
            " 1   V1      284807 non-null  float64\n",
            " 2   V2      284807 non-null  float64\n",
            " 3   V3      284807 non-null  float64\n",
            " 4   V4      284807 non-null  float64\n",
            " 5   V5      284807 non-null  float64\n",
            " 6   V6      284807 non-null  float64\n",
            " 7   V7      284807 non-null  float64\n",
            " 8   V8      284807 non-null  float64\n",
            " 9   V9      284807 non-null  float64\n",
            " 10  V10     284807 non-null  float64\n",
            " 11  V11     284807 non-null  float64\n",
            " 12  V12     284807 non-null  float64\n",
            " 13  V13     284807 non-null  float64\n",
            " 14  V14     284807 non-null  float64\n",
            " 15  V15     284807 non-null  float64\n",
            " 16  V16     284807 non-null  float64\n",
            " 17  V17     284807 non-null  float64\n",
            " 18  V18     284807 non-null  float64\n",
            " 19  V19     284807 non-null  float64\n",
            " 20  V20     284807 non-null  float64\n",
            " 21  V21     284807 non-null  float64\n",
            " 22  V22     284807 non-null  float64\n",
            " 23  V23     284807 non-null  float64\n",
            " 24  V24     284807 non-null  float64\n",
            " 25  V25     284807 non-null  float64\n",
            " 26  V26     284807 non-null  float64\n",
            " 27  V27     284807 non-null  float64\n",
            " 28  V28     284807 non-null  float64\n",
            " 29  Amount  284807 non-null  float64\n",
            " 30  Class   284807 non-null  int64  \n",
            "dtypes: float64(30), int64(1)\n",
            "memory usage: 67.4 MB\n",
            "None\n",
            "   Time        V1        V2        V3        V4        V5        V6        V7  \\\n",
            "0   0.0 -1.359807 -0.072781  2.536347  1.378155 -0.338321  0.462388  0.239599   \n",
            "1   0.0  1.191857  0.266151  0.166480  0.448154  0.060018 -0.082361 -0.078803   \n",
            "2   1.0 -1.358354 -1.340163  1.773209  0.379780 -0.503198  1.800499  0.791461   \n",
            "3   1.0 -0.966272 -0.185226  1.792993 -0.863291 -0.010309  1.247203  0.237609   \n",
            "4   2.0 -1.158233  0.877737  1.548718  0.403034 -0.407193  0.095921  0.592941   \n",
            "\n",
            "         V8        V9  ...       V21       V22       V23       V24       V25  \\\n",
            "0  0.098698  0.363787  ... -0.018307  0.277838 -0.110474  0.066928  0.128539   \n",
            "1  0.085102 -0.255425  ... -0.225775 -0.638672  0.101288 -0.339846  0.167170   \n",
            "2  0.247676 -1.514654  ...  0.247998  0.771679  0.909412 -0.689281 -0.327642   \n",
            "3  0.377436 -1.387024  ... -0.108300  0.005274 -0.190321 -1.175575  0.647376   \n",
            "4 -0.270533  0.817739  ... -0.009431  0.798278 -0.137458  0.141267 -0.206010   \n",
            "\n",
            "        V26       V27       V28  Amount  Class  \n",
            "0 -0.189115  0.133558 -0.021053  149.62      0  \n",
            "1  0.125895 -0.008983  0.014724    2.69      0  \n",
            "2 -0.139097 -0.055353 -0.059752  378.66      0  \n",
            "3 -0.221929  0.062723  0.061458  123.50      0  \n",
            "4  0.502292  0.219422  0.215153   69.99      0  \n",
            "\n",
            "[5 rows x 31 columns]\n"
          ]
        }
      ]
    },
    {
      "cell_type": "code",
      "source": [
        "# Step 4: Preprocessing\n",
        "# Misal target adalah kolom pertama bertipe int\n",
        "target_column = df.select_dtypes(include='int').columns[0]\n",
        "print(f\"Target Column: {target_column}\")\n",
        "\n",
        "# Cek missing values\n",
        "print(df.isnull().sum())\n",
        "\n",
        "# Drop rows dengan missing value\n",
        "df.dropna(inplace=True)\n",
        "\n",
        "# Pisahkan fitur dan target\n",
        "X = df.drop(columns=[target_column])\n",
        "y = df[target_column]\n",
        "\n",
        "# One-hot encoding untuk fitur kategorikal\n",
        "X = pd.get_dummies(X)\n",
        "\n",
        "# Normalisasi fitur\n",
        "scaler = StandardScaler()\n",
        "X_scaled = scaler.fit_transform(X)\n",
        "\n",
        "# Split data (80% train, 20% test)\n",
        "X_train, X_test, y_train, y_test = train_test_split(X_scaled, y, test_size=0.2, random_state=42)\n"
      ],
      "metadata": {
        "colab": {
          "base_uri": "https://localhost:8080/"
        },
        "id": "DSLkqIDNMS0a",
        "outputId": "e6496a80-e5e7-43b9-f3b9-89e0779d43be"
      },
      "execution_count": 7,
      "outputs": [
        {
          "output_type": "stream",
          "name": "stdout",
          "text": [
            "Target Column: Class\n",
            "Time      0\n",
            "V1        0\n",
            "V2        0\n",
            "V3        0\n",
            "V4        0\n",
            "V5        0\n",
            "V6        0\n",
            "V7        0\n",
            "V8        0\n",
            "V9        0\n",
            "V10       0\n",
            "V11       0\n",
            "V12       0\n",
            "V13       0\n",
            "V14       0\n",
            "V15       0\n",
            "V16       0\n",
            "V17       0\n",
            "V18       0\n",
            "V19       0\n",
            "V20       0\n",
            "V21       0\n",
            "V22       0\n",
            "V23       0\n",
            "V24       0\n",
            "V25       0\n",
            "V26       0\n",
            "V27       0\n",
            "V28       0\n",
            "Amount    0\n",
            "Class     0\n",
            "dtype: int64\n"
          ]
        }
      ]
    },
    {
      "cell_type": "code",
      "source": [
        "import tensorflow as tf\n",
        "from tensorflow.keras.models import Sequential\n",
        "from tensorflow.keras.layers import Dense, Dropout, BatchNormalization\n",
        "from tensorflow.keras.callbacks import EarlyStopping, ReduceLROnPlateau\n",
        "\n",
        "# Arsitektur MLP TensorFlow\n",
        "model_tf = Sequential([\n",
        "    Dense(128, activation='relu', kernel_regularizer=tf.keras.regularizers.l2(0.01)),\n",
        "    BatchNormalization(),\n",
        "    Dropout(0.5),\n",
        "\n",
        "    Dense(64, activation='relu', kernel_regularizer=tf.keras.regularizers.l1(0.01)),\n",
        "    BatchNormalization(),\n",
        "    Dropout(0.3),\n",
        "\n",
        "    Dense(1, activation='sigmoid')\n",
        "])\n",
        "\n",
        "# Optimizer dengan weight decay (AdamW)\n",
        "optimizer = tf.keras.optimizers.AdamW(learning_rate=0.001, weight_decay=1e-5)\n",
        "\n",
        "# Compile\n",
        "model_tf.compile(optimizer=optimizer,\n",
        "                 loss='binary_crossentropy',\n",
        "                 metrics=['accuracy'])\n",
        "\n",
        "# Early stopping & Learning Rate Scheduler\n",
        "early_stop = EarlyStopping(monitor='val_loss', patience=10, restore_best_weights=True)\n",
        "reduce_lr = ReduceLROnPlateau(monitor='val_loss', factor=0.5, patience=5)\n",
        "\n",
        "# Training\n",
        "history_tf = model_tf.fit(X_train, y_train,\n",
        "                          validation_data=(X_test, y_test),\n",
        "                          epochs=10,\n",
        "                          batch_size=32,\n",
        "                          callbacks=[early_stop, reduce_lr],\n",
        "                          verbose=1)\n",
        "\n",
        "# Evaluasi\n",
        "loss, accuracy = model_tf.evaluate(X_test, y_test)\n",
        "print(f\"Test Accuracy (TensorFlow): {accuracy:.4f}\")\n"
      ],
      "metadata": {
        "colab": {
          "base_uri": "https://localhost:8080/"
        },
        "id": "y1cw3X-1b4v5",
        "outputId": "853c7ac4-b141-45ef-c68f-16ef31d5d170"
      },
      "execution_count": 9,
      "outputs": [
        {
          "output_type": "stream",
          "name": "stdout",
          "text": [
            "Epoch 1/10\n",
            "\u001b[1m7121/7121\u001b[0m \u001b[32m━━━━━━━━━━━━━━━━━━━━\u001b[0m\u001b[37m\u001b[0m \u001b[1m38s\u001b[0m 5ms/step - accuracy: 0.9662 - loss: 0.7368 - val_accuracy: 0.9984 - val_loss: 0.0330 - learning_rate: 0.0010\n",
            "Epoch 2/10\n",
            "\u001b[1m7121/7121\u001b[0m \u001b[32m━━━━━━━━━━━━━━━━━━━━\u001b[0m\u001b[37m\u001b[0m \u001b[1m31s\u001b[0m 4ms/step - accuracy: 0.9986 - loss: 0.0255 - val_accuracy: 0.9989 - val_loss: 0.0190 - learning_rate: 0.0010\n",
            "Epoch 3/10\n",
            "\u001b[1m7121/7121\u001b[0m \u001b[32m━━━━━━━━━━━━━━━━━━━━\u001b[0m\u001b[37m\u001b[0m \u001b[1m42s\u001b[0m 5ms/step - accuracy: 0.9985 - loss: 0.0273 - val_accuracy: 0.9993 - val_loss: 0.0236 - learning_rate: 0.0010\n",
            "Epoch 4/10\n",
            "\u001b[1m7121/7121\u001b[0m \u001b[32m━━━━━━━━━━━━━━━━━━━━\u001b[0m\u001b[37m\u001b[0m \u001b[1m31s\u001b[0m 4ms/step - accuracy: 0.9988 - loss: 0.0233 - val_accuracy: 0.9993 - val_loss: 0.0248 - learning_rate: 0.0010\n",
            "Epoch 5/10\n",
            "\u001b[1m7121/7121\u001b[0m \u001b[32m━━━━━━━━━━━━━━━━━━━━\u001b[0m\u001b[37m\u001b[0m \u001b[1m41s\u001b[0m 4ms/step - accuracy: 0.9987 - loss: 0.0225 - val_accuracy: 0.9993 - val_loss: 0.0301 - learning_rate: 0.0010\n",
            "Epoch 6/10\n",
            "\u001b[1m7121/7121\u001b[0m \u001b[32m━━━━━━━━━━━━━━━━━━━━\u001b[0m\u001b[37m\u001b[0m \u001b[1m30s\u001b[0m 4ms/step - accuracy: 0.9989 - loss: 0.0227 - val_accuracy: 0.9994 - val_loss: 0.0232 - learning_rate: 0.0010\n",
            "Epoch 7/10\n",
            "\u001b[1m7121/7121\u001b[0m \u001b[32m━━━━━━━━━━━━━━━━━━━━\u001b[0m\u001b[37m\u001b[0m \u001b[1m39s\u001b[0m 6ms/step - accuracy: 0.9986 - loss: 0.0234 - val_accuracy: 0.9895 - val_loss: 0.0581 - learning_rate: 0.0010\n",
            "Epoch 8/10\n",
            "\u001b[1m7121/7121\u001b[0m \u001b[32m━━━━━━━━━━━━━━━━━━━━\u001b[0m\u001b[37m\u001b[0m \u001b[1m35s\u001b[0m 5ms/step - accuracy: 0.9986 - loss: 0.0163 - val_accuracy: 0.9993 - val_loss: 0.0176 - learning_rate: 5.0000e-04\n",
            "Epoch 9/10\n",
            "\u001b[1m7121/7121\u001b[0m \u001b[32m━━━━━━━━━━━━━━━━━━━━\u001b[0m\u001b[37m\u001b[0m \u001b[1m33s\u001b[0m 5ms/step - accuracy: 0.9985 - loss: 0.0158 - val_accuracy: 0.9992 - val_loss: 0.0127 - learning_rate: 5.0000e-04\n",
            "Epoch 10/10\n",
            "\u001b[1m7121/7121\u001b[0m \u001b[32m━━━━━━━━━━━━━━━━━━━━\u001b[0m\u001b[37m\u001b[0m \u001b[1m35s\u001b[0m 5ms/step - accuracy: 0.9986 - loss: 0.0157 - val_accuracy: 0.9993 - val_loss: 0.0156 - learning_rate: 5.0000e-04\n",
            "\u001b[1m1781/1781\u001b[0m \u001b[32m━━━━━━━━━━━━━━━━━━━━\u001b[0m\u001b[37m\u001b[0m \u001b[1m5s\u001b[0m 3ms/step - accuracy: 0.9992 - loss: 0.0129\n",
            "Test Accuracy (TensorFlow): 0.9992\n"
          ]
        }
      ]
    },
    {
      "cell_type": "code",
      "source": [
        "from sklearn.metrics import classification_report, confusion_matrix, roc_auc_score, roc_curve\n",
        "import seaborn as sns\n",
        "\n",
        "# Prediksi probabilitas & thresholding\n",
        "y_pred_prob_tf = model_tf.predict(X_test)\n",
        "y_pred_tf = (y_pred_prob_tf > 0.5).astype(int)\n",
        "\n",
        "# Classification Report\n",
        "print(\"=== Classification Report (TensorFlow) ===\")\n",
        "print(classification_report(y_test, y_pred_tf))\n",
        "\n",
        "# Confusion Matrix\n",
        "cm_tf = confusion_matrix(y_test, y_pred_tf)\n",
        "plt.figure(figsize=(6,4))\n",
        "sns.heatmap(cm_tf, annot=True, fmt='d', cmap='Blues')\n",
        "plt.title('Confusion Matrix - TensorFlow')\n",
        "plt.xlabel('Predicted')\n",
        "plt.ylabel('Actual')\n",
        "plt.show()\n",
        "\n",
        "# ROC Curve & AUC\n",
        "fpr_tf, tpr_tf, _ = roc_curve(y_test, y_pred_prob_tf)\n",
        "auc_tf = roc_auc_score(y_test, y_pred_prob_tf)\n",
        "\n",
        "plt.figure(figsize=(6,4))\n",
        "plt.plot(fpr_tf, tpr_tf, label=f'AUC = {auc_tf:.2f}')\n",
        "plt.plot([0,1], [0,1], linestyle='--', color='gray')\n",
        "plt.title('ROC Curve - TensorFlow')\n",
        "plt.xlabel('False Positive Rate')\n",
        "plt.ylabel('True Positive Rate')\n",
        "plt.legend()\n",
        "plt.grid()\n",
        "plt.show()\n"
      ],
      "metadata": {
        "colab": {
          "base_uri": "https://localhost:8080/",
          "height": 994
        },
        "id": "LQ7i0yTVuVn7",
        "outputId": "6b1beece-e2d5-47a6-a491-76379c9fbeaa"
      },
      "execution_count": 12,
      "outputs": [
        {
          "output_type": "stream",
          "name": "stdout",
          "text": [
            "\u001b[1m1781/1781\u001b[0m \u001b[32m━━━━━━━━━━━━━━━━━━━━\u001b[0m\u001b[37m\u001b[0m \u001b[1m4s\u001b[0m 2ms/step\n",
            "=== Classification Report (TensorFlow) ===\n",
            "              precision    recall  f1-score   support\n",
            "\n",
            "           0       1.00      1.00      1.00     56864\n",
            "           1       0.83      0.70      0.76        98\n",
            "\n",
            "    accuracy                           1.00     56962\n",
            "   macro avg       0.92      0.85      0.88     56962\n",
            "weighted avg       1.00      1.00      1.00     56962\n",
            "\n"
          ]
        },
        {
          "output_type": "display_data",
          "data": {
            "text/plain": [
              "<Figure size 600x400 with 2 Axes>"
            ],
            "image/png": "[encoded data removed]"
          },
          "metadata": {}
        },
        {
          "output_type": "display_data",
          "data": {
            "text/plain": [
              "<Figure size 600x400 with 1 Axes>"
            ],
            "image/png": "[encoded data removed]"
          },
          "metadata": {}
        }
      ]
    },
    {
      "cell_type": "code",
      "source": [
        "import torch\n",
        "import torch.nn as nn\n",
        "import torch.optim as optim\n",
        "from torch.utils.data import TensorDataset, DataLoader\n",
        "from sklearn.metrics import accuracy_score\n",
        "\n",
        "# Convert ke tensor\n",
        "X_train_torch = torch.tensor(X_train, dtype=torch.float32)\n",
        "X_test_torch = torch.tensor(X_test, dtype=torch.float32)\n",
        "y_train_torch = torch.tensor(y_train.values, dtype=torch.float32).unsqueeze(1)\n",
        "y_test_torch = torch.tensor(y_test.values, dtype=torch.float32).unsqueeze(1)\n",
        "\n",
        "# DataLoader\n",
        "train_loader = DataLoader(TensorDataset(X_train_torch, y_train_torch), batch_size=32, shuffle=True)\n",
        "test_loader = DataLoader(TensorDataset(X_test_torch, y_test_torch), batch_size=32)\n",
        "\n",
        "# Arsitektur PyTorch\n",
        "class MLP(nn.Module):\n",
        "    def __init__(self, input_dim):\n",
        "        super(MLP, self).__init__()\n",
        "        self.model = nn.Sequential(\n",
        "            nn.Linear(input_dim, 128),\n",
        "            nn.BatchNorm1d(128),\n",
        "            nn.ReLU(),\n",
        "            nn.Dropout(0.5),\n",
        "\n",
        "            nn.Linear(128, 64),\n",
        "            nn.BatchNorm1d(64),\n",
        "            nn.ReLU(),\n",
        "            nn.Dropout(0.3),\n",
        "\n",
        "            nn.Linear(64, 1),\n",
        "            nn.Sigmoid()\n",
        "        )\n",
        "\n",
        "    def forward(self, x):\n",
        "        return self.model(x)\n",
        "\n",
        "# Inisialisasi model, optimizer, loss\n",
        "input_dim = X_train.shape[1]\n",
        "model_pt = MLP(input_dim)\n",
        "\n",
        "criterion = nn.BCELoss()\n",
        "optimizer = optim.AdamW(model_pt.parameters(), lr=0.001, weight_decay=1e-5)\n",
        "scheduler = optim.lr_scheduler.ReduceLROnPlateau(optimizer, patience=5, factor=0.5)\n",
        "\n",
        "# Training Loop\n",
        "best_val_loss = float('inf')\n",
        "patience = 10\n",
        "trigger_times = 0\n",
        "\n",
        "for epoch in range(10):\n",
        "    model_pt.train()\n",
        "    for xb, yb in train_loader:\n",
        "        pred = model_pt(xb)\n",
        "        loss = criterion(pred, yb)\n",
        "        optimizer.zero_grad()\n",
        "        loss.backward()\n",
        "        optimizer.step()\n",
        "\n",
        "    # Validasi\n",
        "    model_pt.eval()\n",
        "    with torch.no_grad():\n",
        "        val_preds = model_pt(X_test_torch)\n",
        "        val_loss = criterion(val_preds, y_test_torch).item()\n",
        "        scheduler.step(val_loss)\n",
        "\n",
        "    print(f\"Epoch {epoch+1}, Val Loss: {val_loss:.4f}\")\n",
        "    if val_loss < best_val_loss:\n",
        "        best_val_loss = val_loss\n",
        "        best_model = model_pt.state_dict()\n",
        "        trigger_times = 0\n",
        "    else:\n",
        "        trigger_times += 1\n",
        "        if trigger_times >= patience:\n",
        "            print(\"Early stopping!\")\n",
        "            break\n",
        "\n",
        "# Load model terbaik\n",
        "model_pt.load_state_dict(best_model)\n",
        "\n",
        "# Evaluasi\n",
        "model_pt.eval()\n",
        "with torch.no_grad():\n",
        "    preds = model_pt(X_test_torch).round()\n",
        "    acc = accuracy_score(y_test_torch, preds)\n",
        "    print(f\"Test Accuracy (PyTorch): {acc:.4f}\")\n"
      ],
      "metadata": {
        "colab": {
          "base_uri": "https://localhost:8080/"
        },
        "id": "OjH1Z7jHlDR9",
        "outputId": "015dac63-5f2e-495e-aab2-c10d115cc580"
      },
      "execution_count": 11,
      "outputs": [
        {
          "output_type": "stream",
          "name": "stdout",
          "text": [
            "Epoch 1, Val Loss: 0.0124\n",
            "Epoch 2, Val Loss: 0.0040\n",
            "Epoch 3, Val Loss: 0.0093\n",
            "Epoch 4, Val Loss: 0.0111\n",
            "Epoch 5, Val Loss: 0.0091\n",
            "Epoch 6, Val Loss: 0.0038\n",
            "Epoch 7, Val Loss: 0.0044\n",
            "Epoch 8, Val Loss: 0.0033\n",
            "Epoch 9, Val Loss: 0.0037\n",
            "Epoch 10, Val Loss: 0.0036\n",
            "Test Accuracy (PyTorch): 0.9993\n"
          ]
        }
      ]
    },
    {
      "cell_type": "code",
      "source": [
        "from sklearn.metrics import precision_score, recall_score, f1_score\n",
        "\n",
        "# Prediksi probabilitas\n",
        "with torch.no_grad():\n",
        "    y_prob_pt = model_pt(X_test_torch).numpy()\n",
        "    y_pred_pt = (y_prob_pt > 0.5).astype(int)\n",
        "\n",
        "# Classification Report\n",
        "print(\"=== Classification Report (PyTorch) ===\")\n",
        "print(classification_report(y_test, y_pred_pt))\n",
        "\n",
        "# Confusion Matrix\n",
        "cm_pt = confusion_matrix(y_test, y_pred_pt)\n",
        "plt.figure(figsize=(6,4))\n",
        "sns.heatmap(cm_pt, annot=True, fmt='d', cmap='Oranges')\n",
        "plt.title('Confusion Matrix - PyTorch')\n",
        "plt.xlabel('Predicted')\n",
        "plt.ylabel('Actual')\n",
        "plt.show()\n",
        "\n",
        "# ROC Curve & AUC\n",
        "fpr_pt, tpr_pt, _ = roc_curve(y_test, y_prob_pt)\n",
        "auc_pt = roc_auc_score(y_test, y_prob_pt)\n",
        "\n",
        "plt.figure(figsize=(6,4))\n",
        "plt.plot(fpr_pt, tpr_pt, label=f'AUC = {auc_pt:.2f}', color='orange')\n",
        "plt.plot([0,1], [0,1], linestyle='--', color='gray')\n",
        "plt.title('ROC Curve - PyTorch')\n",
        "plt.xlabel('False Positive Rate')\n",
        "plt.ylabel('True Positive Rate')\n",
        "plt.legend()\n",
        "plt.grid()\n",
        "plt.show()\n"
      ],
      "metadata": {
        "colab": {
          "base_uri": "https://localhost:8080/",
          "height": 977
        },
        "id": "bHVKQd3XuTYW",
        "outputId": "633ff80c-e717-4b8b-96e5-049560068fe3"
      },
      "execution_count": 13,
      "outputs": [
        {
          "output_type": "stream",
          "name": "stdout",
          "text": [
            "=== Classification Report (PyTorch) ===\n",
            "              precision    recall  f1-score   support\n",
            "\n",
            "           0       1.00      1.00      1.00     56864\n",
            "           1       0.83      0.78      0.80        98\n",
            "\n",
            "    accuracy                           1.00     56962\n",
            "   macro avg       0.91      0.89      0.90     56962\n",
            "weighted avg       1.00      1.00      1.00     56962\n",
            "\n"
          ]
        },
        {
          "output_type": "display_data",
          "data": {
            "text/plain": [
              "<Figure size 600x400 with 2 Axes>"
            ],
            "image/png": "[encoded data removed]"
          },
          "metadata": {}
        },
        {
          "output_type": "display_data",
          "data": {
            "text/plain": [
              "<Figure size 600x400 with 1 Axes>"
            ],
            "image/png": "[encoded data removed]"
          },
          "metadata": {}
        }
      ]
    },
    {
      "cell_type": "markdown",
      "source": [
        "## 📊 Evaluasi Model TensorFlow vs PyTorch\n",
        "\n",
        "### 📌 Classification Report (Kelas 1)\n",
        "\n",
        "| Metrik        | TensorFlow | PyTorch |\n",
        "|---------------|-------------|----------|\n",
        "| **Precision** | 0.83        | 0.83     |\n",
        "| **Recall**    | 0.70        | 0.78     |\n",
        "| **F1-Score**  | 0.76        | 0.80     |\n",
        "\n",
        "\n",
        "### 🏁 Kesimpulan: Mana Model Terbaik?\n",
        "\n",
        "| Kriteria             | Model Terbaik |\n",
        "|----------------------|----------------|\n",
        "| Akurasi Umum         | Sama (1.00), namun **kurang relevan** untuk data imbalance |\n",
        "| Deteksi Kelas Minoritas (Recall) | ✅ **PyTorch** |\n",
        "| F1-Score             | ✅ **PyTorch** |\n",
        "| Macro Avg F1-Score   | ✅ **PyTorch** (0.90 vs 0.88) |\n",
        "\n",
        "> ✅ **Kesimpulan Akhir**: **Model PyTorch lebih unggul** dalam menangani klasifikasi kelas minoritas (kelas 1), menjadikannya pilihan lebih baik untuk dataset yang tidak seimbang seperti ini.\n",
        "\n",
        "\n",
        "\n",
        "\n"
      ],
      "metadata": {
        "id": "g4FOhS5n6U3g"
      }
    },
    {
      "cell_type": "markdown",
      "source": [
        "### Model TensorFlow (Keras)\n",
        "\n",
        "- Dibuat menggunakan API `tf.keras.Sequential`\n",
        "- Arsitektur terdiri dari:\n",
        "  - Beberapa `Dense` layer dengan aktivasi ReLU\n",
        "  - `Dropout` layer untuk mencegah overfitting\n",
        "  - `BatchNormalization` untuk stabilisasi training\n",
        "  - Output layer menggunakan sigmoid (karena binary classification)\n",
        "- Teknik yang digunakan:\n",
        "  - **Learning rate scheduling** menggunakan `ReduceLROnPlateau`\n",
        "  - **EarlyStopping** jika validasi loss tidak membaik\n",
        "  - Optimizer: `Adam` dengan weight decay (L2 regularization)\n",
        "\n",
        "**Kelebihan:**\n",
        "- Integrasi mudah\n",
        "- API Keras sangat fleksibel\n",
        "- Cocok untuk prototyping cepat\n",
        "\n",
        "---\n",
        "\n",
        "### Model PyTorch\n",
        "\n",
        "- Dibangun menggunakan class `nn.Module`\n",
        "- Arsitektur mirip TensorFlow:\n",
        "  - Layer `Linear` + `ReLU`\n",
        "  - `Dropout` dan `BatchNorm1d` juga diterapkan\n",
        "- Optimizer menggunakan **AdamW**, yaitu versi Adam dengan weight decay\n",
        "- Penyesuaian learning rate dilakukan menggunakan `StepLR` atau `ReduceLROnPlateau`\n",
        "- Training dilakukan manual dengan loop (lebih fleksibel)\n",
        "\n",
        "**Kelebihan:**\n",
        "- Sangat fleksibel untuk eksperimen arsitektur kompleks\n",
        "- Transparan dalam kontrol forward-backward loop\n",
        "- Digunakan luas di penelitian\n",
        "\n",
        "---\n",
        "\n",
        "##  Model Mana yang Terbaik?\n",
        "\n",
        "| Aspek Evaluasi      | TensorFlow | PyTorch |\n",
        "|---------------------|-------------|----------|\n",
        "| Accuracy            | 1.00        | 1.00     |\n",
        "| Precision (kelas 1) | 0.83        | 0.83     |\n",
        "| Recall (kelas 1)    | 0.70        | 0.78     |\n",
        "| F1-Score (kelas 1)  | 0.76        | 0.80     |\n",
        "| Macro Avg F1        | 0.88        | 0.90     |\n",
        "\n",
        "\n",
        "**Kesimpulan:**\n",
        "- **PyTorch unggul** dalam recall dan F1-Score, terutama pada **kelas minoritas (kelas 1)**.\n",
        "- Ini penting dalam kasus **klasifikasi imbalanced** seperti:\n",
        "  - Deteksi penipuan\n",
        "  - Kanker / penyakit\n",
        "  - Anomali sistem\n",
        "\n",
        "**Model Terbaik: PyTorch**\n",
        "\n",
        "Karena memiliki performa lebih baik dalam mengenali kelas minoritas tanpa terlalu banyak false positive, model PyTorch memberikan **generalization yang lebih baik** pada data nyata yang tidak seimbang.\n",
        "\n",
        "\n",
        "\n"
      ],
      "metadata": {
        "id": "v6obvNy0--Ls"
      }
    }
  ]
}