{
  "nbformat": 4,
  "nbformat_minor": 0,
  "metadata": {
    "colab": {
      "provenance": [],
      "authorship_tag": "ABX9TyOvEa7KarzCtjfV8o9VVg6A",
      "include_colab_link": true
    },
    "kernelspec": {
      "name": "python3",
      "display_name": "Python 3"
    },
    "language_info": {
      "name": "python"
    }
  },
  "cells": [
    {
      "cell_type": "markdown",
      "metadata": {
        "id": "view-in-github",
        "colab_type": "text"
      },
      "source": [
        "<a href=\"https://colab.research.google.com/github/fadhilahmad11/Machine-Learning/blob/main/UTS/Clustering_Models_%E2%80%93_grouping_similar_data_points.ipynb\" target=\"_parent\"><img src=\"https://colab.research.google.com/assets/colab-badge.svg\" alt=\"Open In Colab\"/></a>"
      ]
    },
    {
      "cell_type": "markdown",
      "source": [
        "###Pengumpulan dan Pembersihan Data"
      ],
      "metadata": {
        "id": "goEls5nFpaWL"
      }
    },
    {
      "cell_type": "code",
      "source": [
        "import pandas as pd\n",
        "import numpy as np\n",
        "\n",
        "from google.colab import files\n",
        "uploaded = files.upload()\n",
        "\n",
        "df = pd.read_csv(\"UTSClustering.csv\", encoding=\"ISO-8859-1\")\n",
        "\n",
        "print(df.shape)\n",
        "print(df.info())\n",
        "print(df.isnull().sum())"
      ],
      "metadata": {
        "colab": {
          "base_uri": "https://localhost:8080/",
          "height": 522
        },
        "id": "1Wq12aV2lt_J",
        "outputId": "863eb4ee-7436-46dc-b48a-d08bc4b7f3da"
      },
      "execution_count": 18,
      "outputs": [
        {
          "output_type": "display_data",
          "data": {
            "text/plain": [
              "<IPython.core.display.HTML object>"
            ],
            "text/html": [
              "\n",
              "     <input type=\"file\" id=\"files-9ec27ab7-31b9-4149-bf91-353f19c7bf1e\" name=\"files[]\" multiple disabled\n",
              "        style=\"border:none\" />\n",
              "     <output id=\"result-9ec27ab7-31b9-4149-bf91-353f19c7bf1e\">\n",
              "      Upload widget is only available when the cell has been executed in the\n",
              "      current browser session. Please rerun this cell to enable.\n",
              "      </output>\n",
              "      <script>// Copyright 2017 Google LLC\n",
              "//\n",
              "// Licensed under the Apache License, Version 2.0 (the \"License\");\n",
              "// you may not use this file except in compliance with the License.\n",
              "// You may obtain a copy of the License at\n",
              "//\n",
              "//      http://www.apache.org/licenses/LICENSE-2.0\n",
              "//\n",
              "// Unless required by applicable law or agreed to in writing, software\n",
              "// distributed under the License is distributed on an \"AS IS\" BASIS,\n",
              "// WITHOUT WARRANTIES OR CONDITIONS OF ANY KIND, either express or implied.\n",
              "// See the License for the specific language governing permissions and\n",
              "// limitations under the License.\n",
              "\n",
              "/**\n",
              " * @fileoverview Helpers for google.colab Python module.\n",
              " */\n",
              "(function(scope) {\n",
              "function span(text, styleAttributes = {}) {\n",
              "  const element = document.createElement('span');\n",
              "  element.textContent = text;\n",
              "  for (const key of Object.keys(styleAttributes)) {\n",
              "    element.style[key] = styleAttributes[key];\n",
              "  }\n",
              "  return element;\n",
              "}\n",
              "\n",
              "// Max number of bytes which will be uploaded at a time.\n",
              "const MAX_PAYLOAD_SIZE = 100 * 1024;\n",
              "\n",
              "function _uploadFiles(inputId, outputId) {\n",
              "  const steps = uploadFilesStep(inputId, outputId);\n",
              "  const outputElement = document.getElementById(outputId);\n",
              "  // Cache steps on the outputElement to make it available for the next call\n",
              "  // to uploadFilesContinue from Python.\n",
              "  outputElement.steps = steps;\n",
              "\n",
              "  return _uploadFilesContinue(outputId);\n",
              "}\n",
              "\n",
              "// This is roughly an async generator (not supported in the browser yet),\n",
              "// where there are multiple asynchronous steps and the Python side is going\n",
              "// to poll for completion of each step.\n",
              "// This uses a Promise to block the python side on completion of each step,\n",
              "// then passes the result of the previous step as the input to the next step.\n",
              "function _uploadFilesContinue(outputId) {\n",
              "  const outputElement = document.getElementById(outputId);\n",
              "  const steps = outputElement.steps;\n",
              "\n",
              "  const next = steps.next(outputElement.lastPromiseValue);\n",
              "  return Promise.resolve(next.value.promise).then((value) => {\n",
              "    // Cache the last promise value to make it available to the next\n",
              "    // step of the generator.\n",
              "    outputElement.lastPromiseValue = value;\n",
              "    return next.value.response;\n",
              "  });\n",
              "}\n",
              "\n",
              "/**\n",
              " * Generator function which is called between each async step of the upload\n",
              " * process.\n",
              " * @param {string} inputId Element ID of the input file picker element.\n",
              " * @param {string} outputId Element ID of the output display.\n",
              " * @return {!Iterable<!Object>} Iterable of next steps.\n",
              " */\n",
              "function* uploadFilesStep(inputId, outputId) {\n",
              "  const inputElement = document.getElementById(inputId);\n",
              "  inputElement.disabled = false;\n",
              "\n",
              "  const outputElement = document.getElementById(outputId);\n",
              "  outputElement.innerHTML = '';\n",
              "\n",
              "  const pickedPromise = new Promise((resolve) => {\n",
              "    inputElement.addEventListener('change', (e) => {\n",
              "      resolve(e.target.files);\n",
              "    });\n",
              "  });\n",
              "\n",
              "  const cancel = document.createElement('button');\n",
              "  inputElement.parentElement.appendChild(cancel);\n",
              "  cancel.textContent = 'Cancel upload';\n",
              "  const cancelPromise = new Promise((resolve) => {\n",
              "    cancel.onclick = () => {\n",
              "      resolve(null);\n",
              "    };\n",
              "  });\n",
              "\n",
              "  // Wait for the user to pick the files.\n",
              "  const files = yield {\n",
              "    promise: Promise.race([pickedPromise, cancelPromise]),\n",
              "    response: {\n",
              "      action: 'starting',\n",
              "    }\n",
              "  };\n",
              "\n",
              "  cancel.remove();\n",
              "\n",
              "  // Disable the input element since further picks are not allowed.\n",
              "  inputElement.disabled = true;\n",
              "\n",
              "  if (!files) {\n",
              "    return {\n",
              "      response: {\n",
              "        action: 'complete',\n",
              "      }\n",
              "    };\n",
              "  }\n",
              "\n",
              "  for (const file of files) {\n",
              "    const li = document.createElement('li');\n",
              "    li.append(span(file.name, {fontWeight: 'bold'}));\n",
              "    li.append(span(\n",
              "        `(${file.type || 'n/a'}) - ${file.size} bytes, ` +\n",
              "        `last modified: ${\n",
              "            file.lastModifiedDate ? file.lastModifiedDate.toLocaleDateString() :\n",
              "                                    'n/a'} - `));\n",
              "    const percent = span('0% done');\n",
              "    li.appendChild(percent);\n",
              "\n",
              "    outputElement.appendChild(li);\n",
              "\n",
              "    const fileDataPromise = new Promise((resolve) => {\n",
              "      const reader = new FileReader();\n",
              "      reader.onload = (e) => {\n",
              "        resolve(e.target.result);\n",
              "      };\n",
              "      reader.readAsArrayBuffer(file);\n",
              "    });\n",
              "    // Wait for the data to be ready.\n",
              "    let fileData = yield {\n",
              "      promise: fileDataPromise,\n",
              "      response: {\n",
              "        action: 'continue',\n",
              "      }\n",
              "    };\n",
              "\n",
              "    // Use a chunked sending to avoid message size limits. See b/62115660.\n",
              "    let position = 0;\n",
              "    do {\n",
              "      const length = Math.min(fileData.byteLength - position, MAX_PAYLOAD_SIZE);\n",
              "      const chunk = new Uint8Array(fileData, position, length);\n",
              "      position += length;\n",
              "\n",
              "      const base64 = btoa(String.fromCharCode.apply(null, chunk));\n",
              "      yield {\n",
              "        response: {\n",
              "          action: 'append',\n",
              "          file: file.name,\n",
              "          data: base64,\n",
              "        },\n",
              "      };\n",
              "\n",
              "      let percentDone = fileData.byteLength === 0 ?\n",
              "          100 :\n",
              "          Math.round((position / fileData.byteLength) * 100);\n",
              "      percent.textContent = `${percentDone}% done`;\n",
              "\n",
              "    } while (position < fileData.byteLength);\n",
              "  }\n",
              "\n",
              "  // All done.\n",
              "  yield {\n",
              "    response: {\n",
              "      action: 'complete',\n",
              "    }\n",
              "  };\n",
              "}\n",
              "\n",
              "scope.google = scope.google || {};\n",
              "scope.google.colab = scope.google.colab || {};\n",
              "scope.google.colab._files = {\n",
              "  _uploadFiles,\n",
              "  _uploadFilesContinue,\n",
              "};\n",
              "})(self);\n",
              "</script> "
            ]
          },
          "metadata": {}
        },
        {
          "output_type": "stream",
          "name": "stdout",
          "text": [
            "Saving UTSClustering.csv to UTSClustering (3).csv\n",
            "(541909, 8)\n",
            "<class 'pandas.core.frame.DataFrame'>\n",
            "RangeIndex: 541909 entries, 0 to 541908\n",
            "Data columns (total 8 columns):\n",
            " #   Column       Non-Null Count   Dtype  \n",
            "---  ------       --------------   -----  \n",
            " 0   InvoiceNo    541909 non-null  object \n",
            " 1   StockCode    541909 non-null  object \n",
            " 2   Description  540455 non-null  object \n",
            " 3   Quantity     541909 non-null  int64  \n",
            " 4   InvoiceDate  541909 non-null  object \n",
            " 5   UnitPrice    541909 non-null  float64\n",
            " 6   CustomerID   406829 non-null  float64\n",
            " 7   Country      541909 non-null  object \n",
            "dtypes: float64(2), int64(1), object(5)\n",
            "memory usage: 33.1+ MB\n",
            "None\n",
            "InvoiceNo           0\n",
            "StockCode           0\n",
            "Description      1454\n",
            "Quantity            0\n",
            "InvoiceDate         0\n",
            "UnitPrice           0\n",
            "CustomerID     135080\n",
            "Country             0\n",
            "dtype: int64\n"
          ]
        }
      ]
    },
    {
      "cell_type": "code",
      "source": [
        "df = df.dropna(subset=[\"CustomerID\"])\n",
        "\n",
        "print(\"Setelah drop CustomerID kosong:\")\n",
        "print(df.shape)\n",
        "print(\"Jumlah data per kolom kosong:\")\n",
        "print(df.isnull().sum())\n"
      ],
      "metadata": {
        "colab": {
          "base_uri": "https://localhost:8080/"
        },
        "id": "PIX3Ro5n527-",
        "outputId": "8beac434-0ea9-4d0d-e7a5-9b1e9676ea33"
      },
      "execution_count": 19,
      "outputs": [
        {
          "output_type": "stream",
          "name": "stdout",
          "text": [
            "Setelah drop CustomerID kosong:\n",
            "(406829, 8)\n",
            "Jumlah data per kolom kosong:\n",
            "InvoiceNo      0\n",
            "StockCode      0\n",
            "Description    0\n",
            "Quantity       0\n",
            "InvoiceDate    0\n",
            "UnitPrice      0\n",
            "CustomerID     0\n",
            "Country        0\n",
            "dtype: int64\n"
          ]
        }
      ]
    },
    {
      "cell_type": "code",
      "source": [
        "df[\"InvoiceDate\"] = pd.to_datetime(df[\"InvoiceDate\"])\n",
        "df[\"TotalPrice\"] = df[\"Quantity\"] * df[\"UnitPrice\"]\n",
        "\n",
        "print(\"Setelah konversi waktu & tambah TotalPrice:\")\n",
        "print(df[[\"InvoiceDate\", \"TotalPrice\"]].head())\n",
        "print(\"Cek nilai TotalPrice negatif:\", (df[\"TotalPrice\"] < 0).sum())\n"
      ],
      "metadata": {
        "colab": {
          "base_uri": "https://localhost:8080/"
        },
        "id": "QtluxNOb58J5",
        "outputId": "8fdcd0ea-b189-4fbe-ede6-34cdabf87860"
      },
      "execution_count": 20,
      "outputs": [
        {
          "output_type": "stream",
          "name": "stdout",
          "text": [
            "Setelah konversi waktu & tambah TotalPrice:\n",
            "          InvoiceDate  TotalPrice\n",
            "0 2010-12-01 08:26:00       15.30\n",
            "1 2010-12-01 08:26:00       20.34\n",
            "2 2010-12-01 08:26:00       22.00\n",
            "3 2010-12-01 08:26:00       20.34\n",
            "4 2010-12-01 08:26:00       20.34\n",
            "Cek nilai TotalPrice negatif: 8905\n"
          ]
        }
      ]
    },
    {
      "cell_type": "code",
      "source": [
        "print(df[\"Country\"].value_counts())\n"
      ],
      "metadata": {
        "colab": {
          "base_uri": "https://localhost:8080/"
        },
        "id": "FleGMb6P_Aav",
        "outputId": "4111ad91-fd00-4482-be8a-21b0612ce9c0"
      },
      "execution_count": 21,
      "outputs": [
        {
          "output_type": "stream",
          "name": "stdout",
          "text": [
            "Country\n",
            "United Kingdom          361878\n",
            "Germany                   9495\n",
            "France                    8491\n",
            "EIRE                      7485\n",
            "Spain                     2533\n",
            "Netherlands               2371\n",
            "Belgium                   2069\n",
            "Switzerland               1877\n",
            "Portugal                  1480\n",
            "Australia                 1259\n",
            "Norway                    1086\n",
            "Italy                      803\n",
            "Channel Islands            758\n",
            "Finland                    695\n",
            "Cyprus                     622\n",
            "Sweden                     462\n",
            "Austria                    401\n",
            "Denmark                    389\n",
            "Japan                      358\n",
            "Poland                     341\n",
            "USA                        291\n",
            "Israel                     250\n",
            "Unspecified                244\n",
            "Singapore                  229\n",
            "Iceland                    182\n",
            "Canada                     151\n",
            "Greece                     146\n",
            "Malta                      127\n",
            "United Arab Emirates        68\n",
            "European Community          61\n",
            "RSA                         58\n",
            "Lebanon                     45\n",
            "Lithuania                   35\n",
            "Brazil                      32\n",
            "Czech Republic              30\n",
            "Bahrain                     17\n",
            "Saudi Arabia                10\n",
            "Name: count, dtype: int64\n"
          ]
        }
      ]
    },
    {
      "cell_type": "code",
      "source": [
        "customer_df = df.groupby(\"CustomerID\").agg({\n",
        "    \"InvoiceNo\": \"nunique\",\n",
        "    \"Quantity\": \"sum\",\n",
        "    \"TotalPrice\": \"sum\",\n",
        "    \"InvoiceDate\": [np.min, np.max]\n",
        "})\n",
        "\n",
        "print(\"Setelah agregasi:\")\n",
        "print(customer_df.head())\n",
        "print(\"Shape:\", customer_df.shape)\n"
      ],
      "metadata": {
        "colab": {
          "base_uri": "https://localhost:8080/"
        },
        "id": "JEfvC-Si_LNm",
        "outputId": "df4fb6e5-8994-4c48-eb8b-b42765835711"
      },
      "execution_count": 23,
      "outputs": [
        {
          "output_type": "stream",
          "name": "stdout",
          "text": [
            "Setelah agregasi:\n",
            "           InvoiceNo Quantity TotalPrice         InvoiceDate  \\\n",
            "             nunique      sum        sum                 min   \n",
            "CustomerID                                                     \n",
            "12346.0            2        0       0.00 2011-01-18 10:01:00   \n",
            "12347.0            7     2458    4310.00 2010-12-07 14:57:00   \n",
            "12348.0            4     2341    1797.24 2010-12-16 19:09:00   \n",
            "12349.0            1      631    1757.55 2011-11-21 09:51:00   \n",
            "12350.0            1      197     334.40 2011-02-02 16:01:00   \n",
            "\n",
            "                                \n",
            "                           max  \n",
            "CustomerID                      \n",
            "12346.0    2011-01-18 10:17:00  \n",
            "12347.0    2011-12-07 15:52:00  \n",
            "12348.0    2011-09-25 13:13:00  \n",
            "12349.0    2011-11-21 09:51:00  \n",
            "12350.0    2011-02-02 16:01:00  \n",
            "Shape: (4372, 5)\n"
          ]
        },
        {
          "output_type": "stream",
          "name": "stderr",
          "text": [
            "<ipython-input-23-b0fdbf34b1de>:1: FutureWarning: The provided callable <function min at 0x797ff6f01760> is currently using SeriesGroupBy.min. In a future version of pandas, the provided callable will be used directly. To keep current behavior pass the string \"min\" instead.\n",
            "  customer_df = df.groupby(\"CustomerID\").agg({\n",
            "<ipython-input-23-b0fdbf34b1de>:1: FutureWarning: The provided callable <function max at 0x797ff6f01620> is currently using SeriesGroupBy.max. In a future version of pandas, the provided callable will be used directly. To keep current behavior pass the string \"max\" instead.\n",
            "  customer_df = df.groupby(\"CustomerID\").agg({\n"
          ]
        }
      ]
    },
    {
      "cell_type": "code",
      "source": [
        "customer_df.head()"
      ],
      "metadata": {
        "colab": {
          "base_uri": "https://localhost:8080/",
          "height": 269
        },
        "id": "GaE9SLbgAMul",
        "outputId": "915741f3-84ac-481c-b1d1-08a8c5473f93"
      },
      "execution_count": 24,
      "outputs": [
        {
          "output_type": "execute_result",
          "data": {
            "text/plain": [
              "           InvoiceNo Quantity TotalPrice         InvoiceDate  \\\n",
              "             nunique      sum        sum                 min   \n",
              "CustomerID                                                     \n",
              "12346.0            2        0       0.00 2011-01-18 10:01:00   \n",
              "12347.0            7     2458    4310.00 2010-12-07 14:57:00   \n",
              "12348.0            4     2341    1797.24 2010-12-16 19:09:00   \n",
              "12349.0            1      631    1757.55 2011-11-21 09:51:00   \n",
              "12350.0            1      197     334.40 2011-02-02 16:01:00   \n",
              "\n",
              "                                \n",
              "                           max  \n",
              "CustomerID                      \n",
              "12346.0    2011-01-18 10:17:00  \n",
              "12347.0    2011-12-07 15:52:00  \n",
              "12348.0    2011-09-25 13:13:00  \n",
              "12349.0    2011-11-21 09:51:00  \n",
              "12350.0    2011-02-02 16:01:00  "
            ],
            "text/html": [
              "\n",
              "  <div id=\"df-0ed3b6fe-8c2d-4f4a-8cd9-797347774158\" class=\"colab-df-container\">\n",
              "    <div>\n",
              "<style scoped>\n",
              "    .dataframe tbody tr th:only-of-type {\n",
              "        vertical-align: middle;\n",
              "    }\n",
              "\n",
              "    .dataframe tbody tr th {\n",
              "        vertical-align: top;\n",
              "    }\n",
              "\n",
              "    .dataframe thead tr th {\n",
              "        text-align: left;\n",
              "    }\n",
              "\n",
              "    .dataframe thead tr:last-of-type th {\n",
              "        text-align: right;\n",
              "    }\n",
              "</style>\n",
              "<table border=\"1\" class=\"dataframe\">\n",
              "  <thead>\n",
              "    <tr>\n",
              "      <th></th>\n",
              "      <th>InvoiceNo</th>\n",
              "      <th>Quantity</th>\n",
              "      <th>TotalPrice</th>\n",
              "      <th colspan=\"2\" halign=\"left\">InvoiceDate</th>\n",
              "    </tr>\n",
              "    <tr>\n",
              "      <th></th>\n",
              "      <th>nunique</th>\n",
              "      <th>sum</th>\n",
              "      <th>sum</th>\n",
              "      <th>min</th>\n",
              "      <th>max</th>\n",
              "    </tr>\n",
              "    <tr>\n",
              "      <th>CustomerID</th>\n",
              "      <th></th>\n",
              "      <th></th>\n",
              "      <th></th>\n",
              "      <th></th>\n",
              "      <th></th>\n",
              "    </tr>\n",
              "  </thead>\n",
              "  <tbody>\n",
              "    <tr>\n",
              "      <th>12346.0</th>\n",
              "      <td>2</td>\n",
              "      <td>0</td>\n",
              "      <td>0.00</td>\n",
              "      <td>2011-01-18 10:01:00</td>\n",
              "      <td>2011-01-18 10:17:00</td>\n",
              "    </tr>\n",
              "    <tr>\n",
              "      <th>12347.0</th>\n",
              "      <td>7</td>\n",
              "      <td>2458</td>\n",
              "      <td>4310.00</td>\n",
              "      <td>2010-12-07 14:57:00</td>\n",
              "      <td>2011-12-07 15:52:00</td>\n",
              "    </tr>\n",
              "    <tr>\n",
              "      <th>12348.0</th>\n",
              "      <td>4</td>\n",
              "      <td>2341</td>\n",
              "      <td>1797.24</td>\n",
              "      <td>2010-12-16 19:09:00</td>\n",
              "      <td>2011-09-25 13:13:00</td>\n",
              "    </tr>\n",
              "    <tr>\n",
              "      <th>12349.0</th>\n",
              "      <td>1</td>\n",
              "      <td>631</td>\n",
              "      <td>1757.55</td>\n",
              "      <td>2011-11-21 09:51:00</td>\n",
              "      <td>2011-11-21 09:51:00</td>\n",
              "    </tr>\n",
              "    <tr>\n",
              "      <th>12350.0</th>\n",
              "      <td>1</td>\n",
              "      <td>197</td>\n",
              "      <td>334.40</td>\n",
              "      <td>2011-02-02 16:01:00</td>\n",
              "      <td>2011-02-02 16:01:00</td>\n",
              "    </tr>\n",
              "  </tbody>\n",
              "</table>\n",
              "</div>\n",
              "    <div class=\"colab-df-buttons\">\n",
              "\n",
              "  <div class=\"colab-df-container\">\n",
              "    <button class=\"colab-df-convert\" onclick=\"convertToInteractive('df-0ed3b6fe-8c2d-4f4a-8cd9-797347774158')\"\n",
              "            title=\"Convert this dataframe to an interactive table.\"\n",
              "            style=\"display:none;\">\n",
              "\n",
              "  <svg xmlns=\"http://www.w3.org/2000/svg\" height=\"24px\" viewBox=\"0 -960 960 960\">\n",
              "    <path d=\"M120-120v-720h720v720H120Zm60-500h600v-160H180v160Zm220 220h160v-160H400v160Zm0 220h160v-160H400v160ZM180-400h160v-160H180v160Zm440 0h160v-160H620v160ZM180-180h160v-160H180v160Zm440 0h160v-160H620v160Z\"/>\n",
              "  </svg>\n",
              "    </button>\n",
              "\n",
              "  <style>\n",
              "    .colab-df-container {\n",
              "      display:flex;\n",
              "      gap: 12px;\n",
              "    }\n",
              "\n",
              "    .colab-df-convert {\n",
              "      background-color: #E8F0FE;\n",
              "      border: none;\n",
              "      border-radius: 50%;\n",
              "      cursor: pointer;\n",
              "      display: none;\n",
              "      fill: #1967D2;\n",
              "      height: 32px;\n",
              "      padding: 0 0 0 0;\n",
              "      width: 32px;\n",
              "    }\n",
              "\n",
              "    .colab-df-convert:hover {\n",
              "      background-color: #E2EBFA;\n",
              "      box-shadow: 0px 1px 2px rgba(60, 64, 67, 0.3), 0px 1px 3px 1px rgba(60, 64, 67, 0.15);\n",
              "      fill: #174EA6;\n",
              "    }\n",
              "\n",
              "    .colab-df-buttons div {\n",
              "      margin-bottom: 4px;\n",
              "    }\n",
              "\n",
              "    [theme=dark] .colab-df-convert {\n",
              "      background-color: #3B4455;\n",
              "      fill: #D2E3FC;\n",
              "    }\n",
              "\n",
              "    [theme=dark] .colab-df-convert:hover {\n",
              "      background-color: #434B5C;\n",
              "      box-shadow: 0px 1px 3px 1px rgba(0, 0, 0, 0.15);\n",
              "      filter: drop-shadow(0px 1px 2px rgba(0, 0, 0, 0.3));\n",
              "      fill: #FFFFFF;\n",
              "    }\n",
              "  </style>\n",
              "\n",
              "    <script>\n",
              "      const buttonEl =\n",
              "        document.querySelector('#df-0ed3b6fe-8c2d-4f4a-8cd9-797347774158 button.colab-df-convert');\n",
              "      buttonEl.style.display =\n",
              "        google.colab.kernel.accessAllowed ? 'block' : 'none';\n",
              "\n",
              "      async function convertToInteractive(key) {\n",
              "        const element = document.querySelector('#df-0ed3b6fe-8c2d-4f4a-8cd9-797347774158');\n",
              "        const dataTable =\n",
              "          await google.colab.kernel.invokeFunction('convertToInteractive',\n",
              "                                                    [key], {});\n",
              "        if (!dataTable) return;\n",
              "\n",
              "        const docLinkHtml = 'Like what you see? Visit the ' +\n",
              "          '<a target=\"_blank\" href=https://colab.research.google.com/notebooks/data_table.ipynb>data table notebook</a>'\n",
              "          + ' to learn more about interactive tables.';\n",
              "        element.innerHTML = '';\n",
              "        dataTable['output_type'] = 'display_data';\n",
              "        await google.colab.output.renderOutput(dataTable, element);\n",
              "        const docLink = document.createElement('div');\n",
              "        docLink.innerHTML = docLinkHtml;\n",
              "        element.appendChild(docLink);\n",
              "      }\n",
              "    </script>\n",
              "  </div>\n",
              "\n",
              "\n",
              "    <div id=\"df-af60edfe-9ab2-4597-93cb-70196e787a63\">\n",
              "      <button class=\"colab-df-quickchart\" onclick=\"quickchart('df-af60edfe-9ab2-4597-93cb-70196e787a63')\"\n",
              "                title=\"Suggest charts\"\n",
              "                style=\"display:none;\">\n",
              "\n",
              "<svg xmlns=\"http://www.w3.org/2000/svg\" height=\"24px\"viewBox=\"0 0 24 24\"\n",
              "     width=\"24px\">\n",
              "    <g>\n",
              "        <path d=\"M19 3H5c-1.1 0-2 .9-2 2v14c0 1.1.9 2 2 2h14c1.1 0 2-.9 2-2V5c0-1.1-.9-2-2-2zM9 17H7v-7h2v7zm4 0h-2V7h2v10zm4 0h-2v-4h2v4z\"/>\n",
              "    </g>\n",
              "</svg>\n",
              "      </button>\n",
              "\n",
              "<style>\n",
              "  .colab-df-quickchart {\n",
              "      --bg-color: #E8F0FE;\n",
              "      --fill-color: #1967D2;\n",
              "      --hover-bg-color: #E2EBFA;\n",
              "      --hover-fill-color: #174EA6;\n",
              "      --disabled-fill-color: #AAA;\n",
              "      --disabled-bg-color: #DDD;\n",
              "  }\n",
              "\n",
              "  [theme=dark] .colab-df-quickchart {\n",
              "      --bg-color: #3B4455;\n",
              "      --fill-color: #D2E3FC;\n",
              "      --hover-bg-color: #434B5C;\n",
              "      --hover-fill-color: #FFFFFF;\n",
              "      --disabled-bg-color: #3B4455;\n",
              "      --disabled-fill-color: #666;\n",
              "  }\n",
              "\n",
              "  .colab-df-quickchart {\n",
              "    background-color: var(--bg-color);\n",
              "    border: none;\n",
              "    border-radius: 50%;\n",
              "    cursor: pointer;\n",
              "    display: none;\n",
              "    fill: var(--fill-color);\n",
              "    height: 32px;\n",
              "    padding: 0;\n",
              "    width: 32px;\n",
              "  }\n",
              "\n",
              "  .colab-df-quickchart:hover {\n",
              "    background-color: var(--hover-bg-color);\n",
              "    box-shadow: 0 1px 2px rgba(60, 64, 67, 0.3), 0 1px 3px 1px rgba(60, 64, 67, 0.15);\n",
              "    fill: var(--button-hover-fill-color);\n",
              "  }\n",
              "\n",
              "  .colab-df-quickchart-complete:disabled,\n",
              "  .colab-df-quickchart-complete:disabled:hover {\n",
              "    background-color: var(--disabled-bg-color);\n",
              "    fill: var(--disabled-fill-color);\n",
              "    box-shadow: none;\n",
              "  }\n",
              "\n",
              "  .colab-df-spinner {\n",
              "    border: 2px solid var(--fill-color);\n",
              "    border-color: transparent;\n",
              "    border-bottom-color: var(--fill-color);\n",
              "    animation:\n",
              "      spin 1s steps(1) infinite;\n",
              "  }\n",
              "\n",
              "  @keyframes spin {\n",
              "    0% {\n",
              "      border-color: transparent;\n",
              "      border-bottom-color: var(--fill-color);\n",
              "      border-left-color: var(--fill-color);\n",
              "    }\n",
              "    20% {\n",
              "      border-color: transparent;\n",
              "      border-left-color: var(--fill-color);\n",
              "      border-top-color: var(--fill-color);\n",
              "    }\n",
              "    30% {\n",
              "      border-color: transparent;\n",
              "      border-left-color: var(--fill-color);\n",
              "      border-top-color: var(--fill-color);\n",
              "      border-right-color: var(--fill-color);\n",
              "    }\n",
              "    40% {\n",
              "      border-color: transparent;\n",
              "      border-right-color: var(--fill-color);\n",
              "      border-top-color: var(--fill-color);\n",
              "    }\n",
              "    60% {\n",
              "      border-color: transparent;\n",
              "      border-right-color: var(--fill-color);\n",
              "    }\n",
              "    80% {\n",
              "      border-color: transparent;\n",
              "      border-right-color: var(--fill-color);\n",
              "      border-bottom-color: var(--fill-color);\n",
              "    }\n",
              "    90% {\n",
              "      border-color: transparent;\n",
              "      border-bottom-color: var(--fill-color);\n",
              "    }\n",
              "  }\n",
              "</style>\n",
              "\n",
              "      <script>\n",
              "        async function quickchart(key) {\n",
              "          const quickchartButtonEl =\n",
              "            document.querySelector('#' + key + ' button');\n",
              "          quickchartButtonEl.disabled = true;  // To prevent multiple clicks.\n",
              "          quickchartButtonEl.classList.add('colab-df-spinner');\n",
              "          try {\n",
              "            const charts = await google.colab.kernel.invokeFunction(\n",
              "                'suggestCharts', [key], {});\n",
              "          } catch (error) {\n",
              "            console.error('Error during call to suggestCharts:', error);\n",
              "          }\n",
              "          quickchartButtonEl.classList.remove('colab-df-spinner');\n",
              "          quickchartButtonEl.classList.add('colab-df-quickchart-complete');\n",
              "        }\n",
              "        (() => {\n",
              "          let quickchartButtonEl =\n",
              "            document.querySelector('#df-af60edfe-9ab2-4597-93cb-70196e787a63 button');\n",
              "          quickchartButtonEl.style.display =\n",
              "            google.colab.kernel.accessAllowed ? 'block' : 'none';\n",
              "        })();\n",
              "      </script>\n",
              "    </div>\n",
              "\n",
              "    </div>\n",
              "  </div>\n"
            ],
            "application/vnd.google.colaboratory.intrinsic+json": {
              "type": "dataframe",
              "variable_name": "customer_df",
              "summary": "{\n  \"name\": \"customer_df\",\n  \"rows\": 4372,\n  \"fields\": [\n    {\n      \"column\": [\n        \"CustomerID\",\n        \"\"\n      ],\n      \"properties\": {\n        \"dtype\": \"number\",\n        \"std\": 1722.3907054276913,\n        \"min\": 12346.0,\n        \"max\": 18287.0,\n        \"num_unique_values\": 4372,\n        \"samples\": [\n          15079.0,\n          12930.0,\n          12956.0\n        ],\n        \"semantic_type\": \"\",\n        \"description\": \"\"\n      }\n    },\n    {\n      \"column\": [\n        \"InvoiceNo\",\n        \"nunique\"\n      ],\n      \"properties\": {\n        \"dtype\": \"number\",\n        \"std\": 9,\n        \"min\": 1,\n        \"max\": 248,\n        \"num_unique_values\": 65,\n        \"samples\": [\n          77,\n          46,\n          2\n        ],\n        \"semantic_type\": \"\",\n        \"description\": \"\"\n      }\n    },\n    {\n      \"column\": [\n        \"Quantity\",\n        \"sum\"\n      ],\n      \"properties\": {\n        \"dtype\": \"number\",\n        \"std\": 4672,\n        \"min\": -303,\n        \"max\": 196719,\n        \"num_unique_values\": 1788,\n        \"samples\": [\n          1000,\n          2190,\n          4160\n        ],\n        \"semantic_type\": \"\",\n        \"description\": \"\"\n      }\n    },\n    {\n      \"column\": [\n        \"TotalPrice\",\n        \"sum\"\n      ],\n      \"properties\": {\n        \"dtype\": \"number\",\n        \"std\": 8219.345141066593,\n        \"min\": -4287.63,\n        \"max\": 279489.02,\n        \"num_unique_values\": 4288,\n        \"samples\": [\n          633.71,\n          1019.39,\n          2630.64\n        ],\n        \"semantic_type\": \"\",\n        \"description\": \"\"\n      }\n    },\n    {\n      \"column\": [\n        \"InvoiceDate\",\n        \"min\"\n      ],\n      \"properties\": {\n        \"dtype\": \"date\",\n        \"min\": \"2010-12-01 08:26:00\",\n        \"max\": \"2011-12-09 12:16:00\",\n        \"num_unique_values\": 4270,\n        \"samples\": [\n          \"2010-12-06 13:13:00\",\n          \"2011-03-21 08:39:00\",\n          \"2010-12-09 10:14:00\"\n        ],\n        \"semantic_type\": \"\",\n        \"description\": \"\"\n      }\n    },\n    {\n      \"column\": [\n        \"InvoiceDate\",\n        \"max\"\n      ],\n      \"properties\": {\n        \"dtype\": \"date\",\n        \"min\": \"2010-12-01 09:53:00\",\n        \"max\": \"2011-12-09 12:50:00\",\n        \"num_unique_values\": 4239,\n        \"samples\": [\n          \"2011-09-04 11:15:00\",\n          \"2011-09-29 13:17:00\",\n          \"2011-07-22 10:06:00\"\n        ],\n        \"semantic_type\": \"\",\n        \"description\": \"\"\n      }\n    }\n  ]\n}"
            }
          },
          "metadata": {},
          "execution_count": 24
        }
      ]
    },
    {
      "cell_type": "code",
      "source": [
        "customer_df.columns = [\"InvoiceCount\", \"TotalQuantity\", \"TotalSpent\", \"FirstPurchase\", \"LastPurchase\"]\n",
        "print(\"Setelah rename kolom:\")\n",
        "customer_df.head()"
      ],
      "metadata": {
        "colab": {
          "base_uri": "https://localhost:8080/",
          "height": 255
        },
        "id": "uusocjjJ_6U8",
        "outputId": "9eaaffea-b3e4-4be3-9dc8-257ce10d35c0"
      },
      "execution_count": 25,
      "outputs": [
        {
          "output_type": "stream",
          "name": "stdout",
          "text": [
            "Setelah rename kolom:\n"
          ]
        },
        {
          "output_type": "execute_result",
          "data": {
            "text/plain": [
              "            InvoiceCount  TotalQuantity  TotalSpent       FirstPurchase  \\\n",
              "CustomerID                                                                \n",
              "12346.0                2              0        0.00 2011-01-18 10:01:00   \n",
              "12347.0                7           2458     4310.00 2010-12-07 14:57:00   \n",
              "12348.0                4           2341     1797.24 2010-12-16 19:09:00   \n",
              "12349.0                1            631     1757.55 2011-11-21 09:51:00   \n",
              "12350.0                1            197      334.40 2011-02-02 16:01:00   \n",
              "\n",
              "                  LastPurchase  \n",
              "CustomerID                      \n",
              "12346.0    2011-01-18 10:17:00  \n",
              "12347.0    2011-12-07 15:52:00  \n",
              "12348.0    2011-09-25 13:13:00  \n",
              "12349.0    2011-11-21 09:51:00  \n",
              "12350.0    2011-02-02 16:01:00  "
            ],
            "text/html": [
              "\n",
              "  <div id=\"df-5f803e3b-4db6-49a0-914e-c0c151d5eeda\" class=\"colab-df-container\">\n",
              "    <div>\n",
              "<style scoped>\n",
              "    .dataframe tbody tr th:only-of-type {\n",
              "        vertical-align: middle;\n",
              "    }\n",
              "\n",
              "    .dataframe tbody tr th {\n",
              "        vertical-align: top;\n",
              "    }\n",
              "\n",
              "    .dataframe thead th {\n",
              "        text-align: right;\n",
              "    }\n",
              "</style>\n",
              "<table border=\"1\" class=\"dataframe\">\n",
              "  <thead>\n",
              "    <tr style=\"text-align: right;\">\n",
              "      <th></th>\n",
              "      <th>InvoiceCount</th>\n",
              "      <th>TotalQuantity</th>\n",
              "      <th>TotalSpent</th>\n",
              "      <th>FirstPurchase</th>\n",
              "      <th>LastPurchase</th>\n",
              "    </tr>\n",
              "    <tr>\n",
              "      <th>CustomerID</th>\n",
              "      <th></th>\n",
              "      <th></th>\n",
              "      <th></th>\n",
              "      <th></th>\n",
              "      <th></th>\n",
              "    </tr>\n",
              "  </thead>\n",
              "  <tbody>\n",
              "    <tr>\n",
              "      <th>12346.0</th>\n",
              "      <td>2</td>\n",
              "      <td>0</td>\n",
              "      <td>0.00</td>\n",
              "      <td>2011-01-18 10:01:00</td>\n",
              "      <td>2011-01-18 10:17:00</td>\n",
              "    </tr>\n",
              "    <tr>\n",
              "      <th>12347.0</th>\n",
              "      <td>7</td>\n",
              "      <td>2458</td>\n",
              "      <td>4310.00</td>\n",
              "      <td>2010-12-07 14:57:00</td>\n",
              "      <td>2011-12-07 15:52:00</td>\n",
              "    </tr>\n",
              "    <tr>\n",
              "      <th>12348.0</th>\n",
              "      <td>4</td>\n",
              "      <td>2341</td>\n",
              "      <td>1797.24</td>\n",
              "      <td>2010-12-16 19:09:00</td>\n",
              "      <td>2011-09-25 13:13:00</td>\n",
              "    </tr>\n",
              "    <tr>\n",
              "      <th>12349.0</th>\n",
              "      <td>1</td>\n",
              "      <td>631</td>\n",
              "      <td>1757.55</td>\n",
              "      <td>2011-11-21 09:51:00</td>\n",
              "      <td>2011-11-21 09:51:00</td>\n",
              "    </tr>\n",
              "    <tr>\n",
              "      <th>12350.0</th>\n",
              "      <td>1</td>\n",
              "      <td>197</td>\n",
              "      <td>334.40</td>\n",
              "      <td>2011-02-02 16:01:00</td>\n",
              "      <td>2011-02-02 16:01:00</td>\n",
              "    </tr>\n",
              "  </tbody>\n",
              "</table>\n",
              "</div>\n",
              "    <div class=\"colab-df-buttons\">\n",
              "\n",
              "  <div class=\"colab-df-container\">\n",
              "    <button class=\"colab-df-convert\" onclick=\"convertToInteractive('df-5f803e3b-4db6-49a0-914e-c0c151d5eeda')\"\n",
              "            title=\"Convert this dataframe to an interactive table.\"\n",
              "            style=\"display:none;\">\n",
              "\n",
              "  <svg xmlns=\"http://www.w3.org/2000/svg\" height=\"24px\" viewBox=\"0 -960 960 960\">\n",
              "    <path d=\"M120-120v-720h720v720H120Zm60-500h600v-160H180v160Zm220 220h160v-160H400v160Zm0 220h160v-160H400v160ZM180-400h160v-160H180v160Zm440 0h160v-160H620v160ZM180-180h160v-160H180v160Zm440 0h160v-160H620v160Z\"/>\n",
              "  </svg>\n",
              "    </button>\n",
              "\n",
              "  <style>\n",
              "    .colab-df-container {\n",
              "      display:flex;\n",
              "      gap: 12px;\n",
              "    }\n",
              "\n",
              "    .colab-df-convert {\n",
              "      background-color: #E8F0FE;\n",
              "      border: none;\n",
              "      border-radius: 50%;\n",
              "      cursor: pointer;\n",
              "      display: none;\n",
              "      fill: #1967D2;\n",
              "      height: 32px;\n",
              "      padding: 0 0 0 0;\n",
              "      width: 32px;\n",
              "    }\n",
              "\n",
              "    .colab-df-convert:hover {\n",
              "      background-color: #E2EBFA;\n",
              "      box-shadow: 0px 1px 2px rgba(60, 64, 67, 0.3), 0px 1px 3px 1px rgba(60, 64, 67, 0.15);\n",
              "      fill: #174EA6;\n",
              "    }\n",
              "\n",
              "    .colab-df-buttons div {\n",
              "      margin-bottom: 4px;\n",
              "    }\n",
              "\n",
              "    [theme=dark] .colab-df-convert {\n",
              "      background-color: #3B4455;\n",
              "      fill: #D2E3FC;\n",
              "    }\n",
              "\n",
              "    [theme=dark] .colab-df-convert:hover {\n",
              "      background-color: #434B5C;\n",
              "      box-shadow: 0px 1px 3px 1px rgba(0, 0, 0, 0.15);\n",
              "      filter: drop-shadow(0px 1px 2px rgba(0, 0, 0, 0.3));\n",
              "      fill: #FFFFFF;\n",
              "    }\n",
              "  </style>\n",
              "\n",
              "    <script>\n",
              "      const buttonEl =\n",
              "        document.querySelector('#df-5f803e3b-4db6-49a0-914e-c0c151d5eeda button.colab-df-convert');\n",
              "      buttonEl.style.display =\n",
              "        google.colab.kernel.accessAllowed ? 'block' : 'none';\n",
              "\n",
              "      async function convertToInteractive(key) {\n",
              "        const element = document.querySelector('#df-5f803e3b-4db6-49a0-914e-c0c151d5eeda');\n",
              "        const dataTable =\n",
              "          await google.colab.kernel.invokeFunction('convertToInteractive',\n",
              "                                                    [key], {});\n",
              "        if (!dataTable) return;\n",
              "\n",
              "        const docLinkHtml = 'Like what you see? Visit the ' +\n",
              "          '<a target=\"_blank\" href=https://colab.research.google.com/notebooks/data_table.ipynb>data table notebook</a>'\n",
              "          + ' to learn more about interactive tables.';\n",
              "        element.innerHTML = '';\n",
              "        dataTable['output_type'] = 'display_data';\n",
              "        await google.colab.output.renderOutput(dataTable, element);\n",
              "        const docLink = document.createElement('div');\n",
              "        docLink.innerHTML = docLinkHtml;\n",
              "        element.appendChild(docLink);\n",
              "      }\n",
              "    </script>\n",
              "  </div>\n",
              "\n",
              "\n",
              "    <div id=\"df-4e149fce-c8e6-4e9f-a713-22df29c29ee1\">\n",
              "      <button class=\"colab-df-quickchart\" onclick=\"quickchart('df-4e149fce-c8e6-4e9f-a713-22df29c29ee1')\"\n",
              "                title=\"Suggest charts\"\n",
              "                style=\"display:none;\">\n",
              "\n",
              "<svg xmlns=\"http://www.w3.org/2000/svg\" height=\"24px\"viewBox=\"0 0 24 24\"\n",
              "     width=\"24px\">\n",
              "    <g>\n",
              "        <path d=\"M19 3H5c-1.1 0-2 .9-2 2v14c0 1.1.9 2 2 2h14c1.1 0 2-.9 2-2V5c0-1.1-.9-2-2-2zM9 17H7v-7h2v7zm4 0h-2V7h2v10zm4 0h-2v-4h2v4z\"/>\n",
              "    </g>\n",
              "</svg>\n",
              "      </button>\n",
              "\n",
              "<style>\n",
              "  .colab-df-quickchart {\n",
              "      --bg-color: #E8F0FE;\n",
              "      --fill-color: #1967D2;\n",
              "      --hover-bg-color: #E2EBFA;\n",
              "      --hover-fill-color: #174EA6;\n",
              "      --disabled-fill-color: #AAA;\n",
              "      --disabled-bg-color: #DDD;\n",
              "  }\n",
              "\n",
              "  [theme=dark] .colab-df-quickchart {\n",
              "      --bg-color: #3B4455;\n",
              "      --fill-color: #D2E3FC;\n",
              "      --hover-bg-color: #434B5C;\n",
              "      --hover-fill-color: #FFFFFF;\n",
              "      --disabled-bg-color: #3B4455;\n",
              "      --disabled-fill-color: #666;\n",
              "  }\n",
              "\n",
              "  .colab-df-quickchart {\n",
              "    background-color: var(--bg-color);\n",
              "    border: none;\n",
              "    border-radius: 50%;\n",
              "    cursor: pointer;\n",
              "    display: none;\n",
              "    fill: var(--fill-color);\n",
              "    height: 32px;\n",
              "    padding: 0;\n",
              "    width: 32px;\n",
              "  }\n",
              "\n",
              "  .colab-df-quickchart:hover {\n",
              "    background-color: var(--hover-bg-color);\n",
              "    box-shadow: 0 1px 2px rgba(60, 64, 67, 0.3), 0 1px 3px 1px rgba(60, 64, 67, 0.15);\n",
              "    fill: var(--button-hover-fill-color);\n",
              "  }\n",
              "\n",
              "  .colab-df-quickchart-complete:disabled,\n",
              "  .colab-df-quickchart-complete:disabled:hover {\n",
              "    background-color: var(--disabled-bg-color);\n",
              "    fill: var(--disabled-fill-color);\n",
              "    box-shadow: none;\n",
              "  }\n",
              "\n",
              "  .colab-df-spinner {\n",
              "    border: 2px solid var(--fill-color);\n",
              "    border-color: transparent;\n",
              "    border-bottom-color: var(--fill-color);\n",
              "    animation:\n",
              "      spin 1s steps(1) infinite;\n",
              "  }\n",
              "\n",
              "  @keyframes spin {\n",
              "    0% {\n",
              "      border-color: transparent;\n",
              "      border-bottom-color: var(--fill-color);\n",
              "      border-left-color: var(--fill-color);\n",
              "    }\n",
              "    20% {\n",
              "      border-color: transparent;\n",
              "      border-left-color: var(--fill-color);\n",
              "      border-top-color: var(--fill-color);\n",
              "    }\n",
              "    30% {\n",
              "      border-color: transparent;\n",
              "      border-left-color: var(--fill-color);\n",
              "      border-top-color: var(--fill-color);\n",
              "      border-right-color: var(--fill-color);\n",
              "    }\n",
              "    40% {\n",
              "      border-color: transparent;\n",
              "      border-right-color: var(--fill-color);\n",
              "      border-top-color: var(--fill-color);\n",
              "    }\n",
              "    60% {\n",
              "      border-color: transparent;\n",
              "      border-right-color: var(--fill-color);\n",
              "    }\n",
              "    80% {\n",
              "      border-color: transparent;\n",
              "      border-right-color: var(--fill-color);\n",
              "      border-bottom-color: var(--fill-color);\n",
              "    }\n",
              "    90% {\n",
              "      border-color: transparent;\n",
              "      border-bottom-color: var(--fill-color);\n",
              "    }\n",
              "  }\n",
              "</style>\n",
              "\n",
              "      <script>\n",
              "        async function quickchart(key) {\n",
              "          const quickchartButtonEl =\n",
              "            document.querySelector('#' + key + ' button');\n",
              "          quickchartButtonEl.disabled = true;  // To prevent multiple clicks.\n",
              "          quickchartButtonEl.classList.add('colab-df-spinner');\n",
              "          try {\n",
              "            const charts = await google.colab.kernel.invokeFunction(\n",
              "                'suggestCharts', [key], {});\n",
              "          } catch (error) {\n",
              "            console.error('Error during call to suggestCharts:', error);\n",
              "          }\n",
              "          quickchartButtonEl.classList.remove('colab-df-spinner');\n",
              "          quickchartButtonEl.classList.add('colab-df-quickchart-complete');\n",
              "        }\n",
              "        (() => {\n",
              "          let quickchartButtonEl =\n",
              "            document.querySelector('#df-4e149fce-c8e6-4e9f-a713-22df29c29ee1 button');\n",
              "          quickchartButtonEl.style.display =\n",
              "            google.colab.kernel.accessAllowed ? 'block' : 'none';\n",
              "        })();\n",
              "      </script>\n",
              "    </div>\n",
              "\n",
              "    </div>\n",
              "  </div>\n"
            ],
            "application/vnd.google.colaboratory.intrinsic+json": {
              "type": "dataframe",
              "variable_name": "customer_df",
              "summary": "{\n  \"name\": \"customer_df\",\n  \"rows\": 4372,\n  \"fields\": [\n    {\n      \"column\": \"CustomerID\",\n      \"properties\": {\n        \"dtype\": \"number\",\n        \"std\": 1722.3907054276913,\n        \"min\": 12346.0,\n        \"max\": 18287.0,\n        \"num_unique_values\": 4372,\n        \"samples\": [\n          15079.0,\n          12930.0,\n          12956.0\n        ],\n        \"semantic_type\": \"\",\n        \"description\": \"\"\n      }\n    },\n    {\n      \"column\": \"InvoiceCount\",\n      \"properties\": {\n        \"dtype\": \"number\",\n        \"std\": 9,\n        \"min\": 1,\n        \"max\": 248,\n        \"num_unique_values\": 65,\n        \"samples\": [\n          77,\n          46,\n          2\n        ],\n        \"semantic_type\": \"\",\n        \"description\": \"\"\n      }\n    },\n    {\n      \"column\": \"TotalQuantity\",\n      \"properties\": {\n        \"dtype\": \"number\",\n        \"std\": 4672,\n        \"min\": -303,\n        \"max\": 196719,\n        \"num_unique_values\": 1788,\n        \"samples\": [\n          1000,\n          2190,\n          4160\n        ],\n        \"semantic_type\": \"\",\n        \"description\": \"\"\n      }\n    },\n    {\n      \"column\": \"TotalSpent\",\n      \"properties\": {\n        \"dtype\": \"number\",\n        \"std\": 8219.345141066593,\n        \"min\": -4287.63,\n        \"max\": 279489.02,\n        \"num_unique_values\": 4288,\n        \"samples\": [\n          633.71,\n          1019.39,\n          2630.64\n        ],\n        \"semantic_type\": \"\",\n        \"description\": \"\"\n      }\n    },\n    {\n      \"column\": \"FirstPurchase\",\n      \"properties\": {\n        \"dtype\": \"date\",\n        \"min\": \"2010-12-01 08:26:00\",\n        \"max\": \"2011-12-09 12:16:00\",\n        \"num_unique_values\": 4270,\n        \"samples\": [\n          \"2010-12-06 13:13:00\",\n          \"2011-03-21 08:39:00\",\n          \"2010-12-09 10:14:00\"\n        ],\n        \"semantic_type\": \"\",\n        \"description\": \"\"\n      }\n    },\n    {\n      \"column\": \"LastPurchase\",\n      \"properties\": {\n        \"dtype\": \"date\",\n        \"min\": \"2010-12-01 09:53:00\",\n        \"max\": \"2011-12-09 12:50:00\",\n        \"num_unique_values\": 4239,\n        \"samples\": [\n          \"2011-09-04 11:15:00\",\n          \"2011-09-29 13:17:00\",\n          \"2011-07-22 10:06:00\"\n        ],\n        \"semantic_type\": \"\",\n        \"description\": \"\"\n      }\n    }\n  ]\n}"
            }
          },
          "metadata": {},
          "execution_count": 25
        }
      ]
    },
    {
      "cell_type": "code",
      "source": [
        "reference_date = df[\"InvoiceDate\"].max()\n",
        "customer_df[\"Recency\"] = (reference_date - customer_df[\"LastPurchase\"]).dt.days\n",
        "\n",
        "print(\"Setelah hitung Recency:\")\n",
        "print(customer_df[[\"LastPurchase\", \"Recency\"]].head())\n",
        "print(\"Statistik Recency:\")\n",
        "print(customer_df[\"Recency\"].describe())\n"
      ],
      "metadata": {
        "colab": {
          "base_uri": "https://localhost:8080/"
        },
        "id": "nCHutui_AZuV",
        "outputId": "ba7945f5-d18d-40be-f4e4-6f00c78d3c5f"
      },
      "execution_count": 26,
      "outputs": [
        {
          "output_type": "stream",
          "name": "stdout",
          "text": [
            "Setelah hitung Recency:\n",
            "                  LastPurchase  Recency\n",
            "CustomerID                             \n",
            "12346.0    2011-01-18 10:17:00      325\n",
            "12347.0    2011-12-07 15:52:00        1\n",
            "12348.0    2011-09-25 13:13:00       74\n",
            "12349.0    2011-11-21 09:51:00       18\n",
            "12350.0    2011-02-02 16:01:00      309\n",
            "Statistik Recency:\n",
            "count    4372.000000\n",
            "mean       91.047118\n",
            "std       100.765435\n",
            "min         0.000000\n",
            "25%        16.000000\n",
            "50%        49.000000\n",
            "75%       142.000000\n",
            "max       373.000000\n",
            "Name: Recency, dtype: float64\n"
          ]
        }
      ]
    },
    {
      "cell_type": "code",
      "source": [
        "customer_df = customer_df.drop(columns=[\"FirstPurchase\", \"LastPurchase\"])\n",
        "customer_df = customer_df.reset_index()\n",
        "\n",
        "print(\"Final dataset per customer:\")\n",
        "print(customer_df.head())\n",
        "print(\"Shape:\", customer_df.shape)\n"
      ],
      "metadata": {
        "colab": {
          "base_uri": "https://localhost:8080/"
        },
        "id": "-Mbi4c4yBERx",
        "outputId": "c1ea2624-94a3-46fc-809d-7f5cc536c302"
      },
      "execution_count": 27,
      "outputs": [
        {
          "output_type": "stream",
          "name": "stdout",
          "text": [
            "Final dataset per customer:\n",
            "   CustomerID  InvoiceCount  TotalQuantity  TotalSpent  Recency\n",
            "0     12346.0             2              0        0.00      325\n",
            "1     12347.0             7           2458     4310.00        1\n",
            "2     12348.0             4           2341     1797.24       74\n",
            "3     12349.0             1            631     1757.55       18\n",
            "4     12350.0             1            197      334.40      309\n",
            "Shape: (4372, 5)\n"
          ]
        }
      ]
    },
    {
      "cell_type": "markdown",
      "source": [
        "##Feature Selection & Engineering"
      ],
      "metadata": {
        "id": "_SRquf7zCkvr"
      }
    },
    {
      "cell_type": "code",
      "source": [
        "print(\"Kolom yang tersedia untuk clustering:\")\n",
        "print(customer_df.columns)\n",
        "\n",
        "print(\"\\nStatistik awal fitur:\")\n",
        "print(customer_df.describe())\n"
      ],
      "metadata": {
        "colab": {
          "base_uri": "https://localhost:8080/"
        },
        "id": "zCIV05hBCXPS",
        "outputId": "65392159-230a-4c9d-d189-2e311b0f825c"
      },
      "execution_count": 28,
      "outputs": [
        {
          "output_type": "stream",
          "name": "stdout",
          "text": [
            "Kolom yang tersedia untuk clustering:\n",
            "Index(['CustomerID', 'InvoiceCount', 'TotalQuantity', 'TotalSpent', 'Recency'], dtype='object')\n",
            "\n",
            "Statistik awal fitur:\n",
            "         CustomerID  InvoiceCount  TotalQuantity     TotalSpent      Recency\n",
            "count   4372.000000   4372.000000    4372.000000    4372.000000  4372.000000\n",
            "mean   15299.677722      5.075480    1122.344007    1898.459701    91.047118\n",
            "std     1722.390705      9.338754    4672.790720    8219.345141   100.765435\n",
            "min    12346.000000      1.000000    -303.000000   -4287.630000     0.000000\n",
            "25%    13812.750000      1.000000     153.000000     293.362500    16.000000\n",
            "50%    15300.500000      3.000000     365.000000     648.075000    49.000000\n",
            "75%    16778.250000      5.000000     962.250000    1611.725000   142.000000\n",
            "max    18287.000000    248.000000  196719.000000  279489.020000   373.000000\n"
          ]
        }
      ]
    },
    {
      "cell_type": "code",
      "source": [
        "# Hitung variasi per fitur (selain CustomerID)\n",
        "from sklearn.feature_selection import VarianceThreshold\n",
        "\n",
        "X = customer_df.drop(columns=[\"CustomerID\"])\n",
        "selector = VarianceThreshold(threshold=0.01)  # <1% variansi = hampir konstan\n",
        "selector.fit(X)\n",
        "\n",
        "# Tampilkan fitur yang lolos threshold\n",
        "selected_features = X.columns[selector.get_support()]\n",
        "removed_features = X.columns[~selector.get_support()]\n",
        "\n",
        "print(\"Fitur yang dihapus karena hampir konstan:\")\n",
        "print(list(removed_features))\n",
        "\n",
        "# Update dataset hanya dengan fitur terpilih\n",
        "X = X[selected_features]\n"
      ],
      "metadata": {
        "colab": {
          "base_uri": "https://localhost:8080/"
        },
        "id": "CwIYiU2MCdYS",
        "outputId": "67e3201e-fd41-4d67-f0c4-5dfbcaf6d28b"
      },
      "execution_count": 29,
      "outputs": [
        {
          "output_type": "stream",
          "name": "stdout",
          "text": [
            "Fitur yang dihapus karena hampir konstan:\n",
            "[]\n"
          ]
        }
      ]
    },
    {
      "cell_type": "code",
      "source": [
        "# Cek fitur yang isinya sama\n",
        "duplicated_cols = X.T.duplicated()\n",
        "print(\"Fitur duplikat yang dihapus:\", list(X.columns[duplicated_cols]))\n",
        "\n",
        "# Hapus jika ada\n",
        "X = X.loc[:, ~duplicated_cols]\n"
      ],
      "metadata": {
        "colab": {
          "base_uri": "https://localhost:8080/"
        },
        "id": "6PoVZeq4C3i5",
        "outputId": "f8d34a1e-bd78-4792-b724-aa9937346aaf"
      },
      "execution_count": 30,
      "outputs": [
        {
          "output_type": "stream",
          "name": "stdout",
          "text": [
            "Fitur duplikat yang dihapus: []\n"
          ]
        }
      ]
    },
    {
      "cell_type": "code",
      "source": [
        "import seaborn as sns\n",
        "import matplotlib.pyplot as plt\n",
        "\n",
        "plt.figure(figsize=(8,6))\n",
        "sns.heatmap(X.corr(), annot=True, cmap=\"coolwarm\")\n",
        "plt.title(\"Korelasi antar fitur\")\n",
        "plt.show()\n"
      ],
      "metadata": {
        "colab": {
          "base_uri": "https://localhost:8080/",
          "height": 545
        },
        "id": "AfUdU4zpDMBp",
        "outputId": "85e2a99d-4983-4035-8de3-180149cff6f0"
      },
      "execution_count": 31,
      "outputs": [
        {
          "output_type": "display_data",
          "data": {
            "text/plain": [
              "<Figure size 800x600 with 2 Axes>"
            ],
            "image/png": "[encoded data removed]"
          },
          "metadata": {}
        }
      ]
    },
    {
      "cell_type": "code",
      "source": [
        "from sklearn.preprocessing import StandardScaler\n",
        "\n",
        "scaler = StandardScaler()\n",
        "X_scaled = scaler.fit_transform(X)\n",
        "\n",
        "print(\"Setelah standarisasi:\")\n",
        "print(pd.DataFrame(X_scaled, columns=X.columns).describe())\n"
      ],
      "metadata": {
        "colab": {
          "base_uri": "https://localhost:8080/"
        },
        "id": "ZvzBCtiPDQIP",
        "outputId": "da399e00-ce35-45ba-dbf8-5c47ab6177f6"
      },
      "execution_count": 32,
      "outputs": [
        {
          "output_type": "stream",
          "name": "stdout",
          "text": [
            "Setelah standarisasi:\n",
            "       InvoiceCount  TotalQuantity   TotalSpent       Recency\n",
            "count  4.372000e+03   4.372000e+03  4372.000000  4.372000e+03\n",
            "mean   1.950255e-17   3.250424e-18     0.000000 -4.225551e-17\n",
            "std    1.000114e+00   1.000114e+00     1.000114  1.000114e+00\n",
            "min   -4.364551e-01  -3.050655e-01    -0.752712 -9.036584e-01\n",
            "25%   -4.364551e-01  -2.074681e-01    -0.195305 -7.448556e-01\n",
            "50%   -2.222692e-01  -1.620938e-01    -0.152144 -4.173249e-01\n",
            "75%   -8.083408e-03  -3.426482e-02    -0.034889  5.057162e-01\n",
            "max    2.601549e+01   4.186343e+01    33.776695  2.798431e+00\n"
          ]
        }
      ]
    },
    {
      "cell_type": "code",
      "source": [
        "# Buat dataframe akhir untuk clustering\n",
        "X_final = pd.DataFrame(X_scaled, columns=X.columns)\n",
        "X_final[\"CustomerID\"] = customer_df[\"CustomerID\"].values\n",
        "\n",
        "print(\"Dataset akhir siap untuk clustering:\")\n",
        "print(X_final.head())\n",
        "print(\"Shape:\", X_final.shape)\n"
      ],
      "metadata": {
        "colab": {
          "base_uri": "https://localhost:8080/"
        },
        "id": "0BHIF8V8DUWN",
        "outputId": "f96aa58d-b0f8-4ee3-f4a9-8d87df8d99d3"
      },
      "execution_count": 33,
      "outputs": [
        {
          "output_type": "stream",
          "name": "stdout",
          "text": [
            "Dataset akhir siap untuk clustering:\n",
            "   InvoiceCount  TotalQuantity  TotalSpent   Recency  CustomerID\n",
            "0     -0.329362      -0.240215   -0.231001  2.322023     12346.0\n",
            "1      0.206102       0.285870    0.293432 -0.893733     12347.0\n",
            "2     -0.115176       0.260828   -0.012316 -0.169196     12348.0\n",
            "3     -0.436455      -0.105162   -0.017146 -0.725005     12349.0\n",
            "4     -0.436455      -0.198051   -0.190312  2.163220     12350.0\n",
            "Shape: (4372, 5)\n"
          ]
        }
      ]
    },
    {
      "cell_type": "markdown",
      "source": [
        "##Pemodelan Clustering"
      ],
      "metadata": {
        "id": "Lw44OlhXFa_D"
      }
    },
    {
      "cell_type": "code",
      "source": [
        "from sklearn.decomposition import PCA\n",
        "import matplotlib.pyplot as plt\n",
        "\n",
        "# Data untuk model (hapus CustomerID)\n",
        "X_model = X_final.drop(columns=[\"CustomerID\"])\n",
        "\n",
        "# Reduksi ke 2D untuk visualisasi hasil clustering\n",
        "pca = PCA(n_components=2)\n",
        "X_pca = pca.fit_transform(X_model)\n",
        "\n",
        "def plot_clusters(X_2d, labels, title):\n",
        "    plt.figure(figsize=(6,4))\n",
        "    plt.scatter(X_2d[:, 0], X_2d[:, 1], c=labels, cmap='Set2', s=30)\n",
        "    plt.title(title)\n",
        "    plt.xlabel(\"PCA 1\")\n",
        "    plt.ylabel(\"PCA 2\")\n",
        "    plt.grid(True)\n",
        "    plt.show()"
      ],
      "metadata": {
        "id": "Ah9B7APNFfap"
      },
      "execution_count": 41,
      "outputs": []
    },
    {
      "cell_type": "code",
      "source": [
        "from sklearn.cluster import KMeans\n",
        "\n",
        "kmeans = KMeans(n_clusters=4, random_state=42)\n",
        "kmeans_labels = kmeans.fit_predict(X_model)\n",
        "\n",
        "print(\"KMeans - Jumlah anggota per cluster:\")\n",
        "print(pd.Series(kmeans_labels).value_counts())\n",
        "\n",
        "plot_clusters(X_pca, kmeans_labels, \"KMeans Clustering\")"
      ],
      "metadata": {
        "colab": {
          "base_uri": "https://localhost:8080/",
          "height": 514
        },
        "id": "YPHupVQqFjzG",
        "outputId": "111c4170-cffe-4357-a81c-25c472b49157"
      },
      "execution_count": 42,
      "outputs": [
        {
          "output_type": "stream",
          "name": "stdout",
          "text": [
            "KMeans - Jumlah anggota per cluster:\n",
            "0    3081\n",
            "3    1081\n",
            "2     196\n",
            "1      14\n",
            "Name: count, dtype: int64\n"
          ]
        },
        {
          "output_type": "display_data",
          "data": {
            "text/plain": [
              "<Figure size 600x400 with 1 Axes>"
            ],
            "image/png": "[encoded data removed]"
          },
          "metadata": {}
        }
      ]
    },
    {
      "cell_type": "code",
      "source": [
        "from sklearn.cluster import AgglomerativeClustering\n",
        "\n",
        "agglo = AgglomerativeClustering(n_clusters=4)\n",
        "agglo_labels = agglo.fit_predict(X_model)\n",
        "\n",
        "print(\"Agglomerative - Jumlah anggota per cluster:\")\n",
        "print(pd.Series(agglo_labels).value_counts())\n",
        "\n",
        "plot_clusters(X_pca, agglo_labels, \"Agglomerative Clustering\")"
      ],
      "metadata": {
        "colab": {
          "base_uri": "https://localhost:8080/",
          "height": 514
        },
        "id": "eOJX1kFpFoQ7",
        "outputId": "0e8e6879-e1dd-492e-f4e0-0d159ed2f1a3"
      },
      "execution_count": 43,
      "outputs": [
        {
          "output_type": "stream",
          "name": "stdout",
          "text": [
            "Agglomerative - Jumlah anggota per cluster:\n",
            "3    2468\n",
            "2    1377\n",
            "1     515\n",
            "0      12\n",
            "Name: count, dtype: int64\n"
          ]
        },
        {
          "output_type": "display_data",
          "data": {
            "text/plain": [
              "<Figure size 600x400 with 1 Axes>"
            ],
            "image/png": "[encoded data removed]"
          },
          "metadata": {}
        }
      ]
    },
    {
      "cell_type": "code",
      "source": [
        "from sklearn.cluster import DBSCAN\n",
        "\n",
        "dbscan = DBSCAN(eps=1.5, min_samples=5)\n",
        "dbscan_labels = dbscan.fit_predict(X_model)\n",
        "\n",
        "print(\"DBSCAN - Jumlah anggota per cluster:\")\n",
        "print(pd.Series(dbscan_labels).value_counts())\n",
        "\n",
        "plot_clusters(X_pca, dbscan_labels, \"DBSCAN Clustering\")"
      ],
      "metadata": {
        "colab": {
          "base_uri": "https://localhost:8080/",
          "height": 479
        },
        "id": "U8HCfRZrFspn",
        "outputId": "a5247794-fdbb-43c9-e1b7-748592df9acd"
      },
      "execution_count": 44,
      "outputs": [
        {
          "output_type": "stream",
          "name": "stdout",
          "text": [
            "DBSCAN - Jumlah anggota per cluster:\n",
            " 0    4337\n",
            "-1      35\n",
            "Name: count, dtype: int64\n"
          ]
        },
        {
          "output_type": "display_data",
          "data": {
            "text/plain": [
              "<Figure size 600x400 with 1 Axes>"
            ],
            "image/png": "[encoded data removed]"
          },
          "metadata": {}
        }
      ]
    },
    {
      "cell_type": "code",
      "source": [
        "from sklearn.mixture import GaussianMixture\n",
        "\n",
        "gmm = GaussianMixture(n_components=4, random_state=42)\n",
        "gmm_labels = gmm.fit_predict(X_model)\n",
        "\n",
        "print(\"GMM - Jumlah anggota per cluster:\")\n",
        "print(pd.Series(gmm_labels).value_counts())\n",
        "\n",
        "plot_clusters(X_pca, gmm_labels, \"Gaussian Mixture Clustering\")"
      ],
      "metadata": {
        "colab": {
          "base_uri": "https://localhost:8080/",
          "height": 514
        },
        "id": "Sq7egLZnFxM-",
        "outputId": "a9a4f758-eb41-4ef2-9d7f-1dd47792458a"
      },
      "execution_count": 45,
      "outputs": [
        {
          "output_type": "stream",
          "name": "stdout",
          "text": [
            "GMM - Jumlah anggota per cluster:\n",
            "3    2230\n",
            "0    1505\n",
            "2     566\n",
            "1      71\n",
            "Name: count, dtype: int64\n"
          ]
        },
        {
          "output_type": "display_data",
          "data": {
            "text/plain": [
              "<Figure size 600x400 with 1 Axes>"
            ],
            "image/png": "[encoded data removed]"
          },
          "metadata": {}
        }
      ]
    },
    {
      "cell_type": "code",
      "source": [
        "from sklearn.cluster import SpectralClustering\n",
        "\n",
        "spectral = SpectralClustering(n_clusters=4, affinity='nearest_neighbors', assign_labels='kmeans', random_state=42)\n",
        "spectral_labels = spectral.fit_predict(X_model)\n",
        "\n",
        "print(\"Spectral - Jumlah anggota per cluster:\")\n",
        "print(pd.Series(spectral_labels).value_counts())\n",
        "\n",
        "plot_clusters(X_pca, spectral_labels, \"Spectral Clustering\")"
      ],
      "metadata": {
        "colab": {
          "base_uri": "https://localhost:8080/",
          "height": 514
        },
        "id": "bYHbGQm6F3Sq",
        "outputId": "0d6a3024-73cc-40aa-9a0f-0080cf21ba4e"
      },
      "execution_count": 46,
      "outputs": [
        {
          "output_type": "stream",
          "name": "stdout",
          "text": [
            "Spectral - Jumlah anggota per cluster:\n",
            "0    2693\n",
            "3     817\n",
            "1     734\n",
            "2     128\n",
            "Name: count, dtype: int64\n"
          ]
        },
        {
          "output_type": "display_data",
          "data": {
            "text/plain": [
              "<Figure size 600x400 with 1 Axes>"
            ],
            "image/png": "[encoded data removed]"
          },
          "metadata": {}
        }
      ]
    },
    {
      "cell_type": "markdown",
      "source": [
        "##Matriks Evaluasi"
      ],
      "metadata": {
        "id": "PvXq6DakN-xW"
      }
    },
    {
      "cell_type": "code",
      "source": [
        "from sklearn.metrics import silhouette_score, davies_bouldin_score, calinski_harabasz_score\n",
        "\n",
        "def evaluate_model(X, labels, model_name):\n",
        "    sil = silhouette_score(X, labels)\n",
        "    db = davies_bouldin_score(X, labels)\n",
        "    ch = calinski_harabasz_score(X, labels)\n",
        "    return {\n",
        "        \"Model\": model_name,\n",
        "        \"Silhouette\": sil,\n",
        "        \"Davies-Bouldin\": db,\n",
        "        \"Calinski-Harabasz\": ch\n",
        "    }\n",
        "\n",
        "# Evaluasi semua model\n",
        "results = []\n",
        "results.append(evaluate_model(X_model, kmeans_labels, \"KMeans\"))\n",
        "results.append(evaluate_model(X_model, agglo_labels, \"Agglomerative\"))\n",
        "results.append(evaluate_model(X_model, dbscan_labels, \"DBSCAN\"))\n",
        "results.append(evaluate_model(X_model, gmm_labels, \"GMM\"))\n",
        "results.append(evaluate_model(X_model, spectral_labels, \"Spectral\"))\n",
        "\n",
        "import pandas as pd\n",
        "eval_df = pd.DataFrame(results)\n",
        "print(eval_df.sort_values(\"Silhouette\", ascending=False))\n"
      ],
      "metadata": {
        "colab": {
          "base_uri": "https://localhost:8080/"
        },
        "id": "ZF0XfitEN7v3",
        "outputId": "c99a4ac4-d2d4-4588-c0ea-2f0a2d093139"
      },
      "execution_count": 48,
      "outputs": [
        {
          "output_type": "stream",
          "name": "stdout",
          "text": [
            "           Model  Silhouette  Davies-Bouldin  Calinski-Harabasz\n",
            "2         DBSCAN    0.892859        0.828888        2053.058672\n",
            "0         KMeans    0.601822        0.725945        2936.729345\n",
            "1  Agglomerative    0.520151        0.800667        2522.791964\n",
            "3            GMM    0.127860        1.571029         863.631447\n",
            "4       Spectral    0.025671        1.028633         445.548115\n"
          ]
        }
      ]
    },
    {
      "cell_type": "markdown",
      "source": [
        "\n",
        "### Keterangan\n",
        "* Silhouette Score (semakin tinggi semakin baik) → menunjukkan seberapa baik objek berada di dalam cluster-nya sendiri.\n",
        "* Davies-Bouldin Index (semakin rendah semakin baik) → membandingkan jarak antar cluster.\n",
        "* Calinski-Harabasz Score (semakin tinggi semakin baik) → rasio antara dispersi antar dan intra-cluster.\n",
        "\n",
        "### Kesimpulan:\n",
        "* KMeans memberikan hasil terbaik secara konsisten pada ketiga metrik → cocok digunakan sebagai model utama.\n",
        "* DBSCAN buruk karena data tidak padat atau parameternya tidak optimal.\n",
        "* Agglomerative cukup dekat dengan KMeans, tapi lebih lambat untuk data besar.\n",
        "\n"
      ],
      "metadata": {
        "id": "NmI5qPc4bc_z"
      }
    },
    {
      "cell_type": "code",
      "source": [
        "from sklearn.metrics import silhouette_samples\n",
        "import numpy as np\n",
        "import matplotlib.cm as cm\n",
        "\n",
        "def silhouette_plot(X, labels, model_name):\n",
        "    silhouette_vals = silhouette_samples(X, labels)\n",
        "    y_lower = 10\n",
        "    n_clusters = len(np.unique(labels))\n",
        "    plt.figure(figsize=(7,5))\n",
        "\n",
        "    for i in range(n_clusters):\n",
        "        ith_vals = silhouette_vals[labels == i]\n",
        "        ith_vals.sort()\n",
        "        size_cluster_i = ith_vals.shape[0]\n",
        "        y_upper = y_lower + size_cluster_i\n",
        "        color = cm.nipy_spectral(float(i) / n_clusters)\n",
        "        plt.fill_betweenx(np.arange(y_lower, y_upper), 0, ith_vals, facecolor=color, edgecolor=color, alpha=0.7)\n",
        "        plt.text(-0.05, y_lower + 0.5 * size_cluster_i, str(i))\n",
        "        y_lower = y_upper + 10\n",
        "\n",
        "    plt.title(f\"Silhouette Plot - {model_name}\")\n",
        "    plt.xlabel(\"Silhouette Coefficient\")\n",
        "    plt.ylabel(\"Cluster\")\n",
        "    plt.axvline(x=np.mean(silhouette_vals), color=\"red\", linestyle=\"--\")\n",
        "    plt.show()\n",
        "\n",
        "# Silhouette Plot untuk KMeans\n",
        "silhouette_plot(X_model, kmeans_labels, \"KMeans\")\n",
        "print(\"\\nGrafik ini menunjukkan bahwa sebagian besar data memiliki nilai silhouette di atas 0.5, yang mengindikasikan bahwa cluster yang terbentuk cukup baik dan terpisah jelas.\")\n",
        "print(\"Tidak ada banyak nilai negatif atau mendekati nol, sehingga distribusi antar cluster cukup optimal. Garis merah vertikal sebagai rata-rata memperkuat bahwa performa clustering tergolong baik.\")\n"
      ],
      "metadata": {
        "colab": {
          "base_uri": "https://localhost:8080/",
          "height": 539
        },
        "id": "AWRXFSp7VN3K",
        "outputId": "fd24137a-ec23-46b1-b90d-85d85b4e8381"
      },
      "execution_count": 55,
      "outputs": [
        {
          "output_type": "display_data",
          "data": {
            "text/plain": [
              "<Figure size 700x500 with 1 Axes>"
            ],
            "image/png": "[encoded data removed]"
          },
          "metadata": {}
        },
        {
          "output_type": "stream",
          "name": "stdout",
          "text": [
            "\n",
            "Grafik ini menunjukkan bahwa sebagian besar data memiliki nilai silhouette di atas 0.5, yang mengindikasikan bahwa cluster yang terbentuk cukup baik dan terpisah jelas.\n",
            "Tidak ada banyak nilai negatif atau mendekati nol, sehingga distribusi antar cluster cukup optimal. Garis merah vertikal sebagai rata-rata memperkuat bahwa performa clustering tergolong baik.\n"
          ]
        }
      ]
    },
    {
      "cell_type": "code",
      "source": [
        "from scipy.cluster.hierarchy import linkage, dendrogram\n",
        "\n",
        "# Buat linkage matrix\n",
        "linkage_matrix = linkage(X_model, method='ward')\n",
        "\n",
        "# Dendrogram\n",
        "plt.figure(figsize=(10, 5))\n",
        "dendrogram(linkage_matrix, truncate_mode=\"level\", p=5)\n",
        "plt.title(\"Dendrogram - Agglomerative Clustering\")\n",
        "plt.xlabel(\"Sample Index\")\n",
        "plt.ylabel(\"Distance\")\n",
        "plt.show()\n",
        "\n",
        "print(\"\\nDari dendrogram, terlihat ada lonjakan besar di bagian atas, yang menandakan bahwa memotong pohon pada titik tersebut (misalnya menjadi 4 cluster) adalah keputusan yang wajar.\")\n",
        "print(\"Ini mengindikasikan bahwa data memiliki struktur hierarki yang kuat, dan pengelompokan berdasarkan jarak antar titik cukup jelas.\")"
      ],
      "metadata": {
        "colab": {
          "base_uri": "https://localhost:8080/",
          "height": 555
        },
        "id": "8G4Rh0emVU4q",
        "outputId": "6a7852c9-8661-4446-edc7-b601bc93ff3c"
      },
      "execution_count": 56,
      "outputs": [
        {
          "output_type": "display_data",
          "data": {
            "text/plain": [
              "<Figure size 1000x500 with 1 Axes>"
            ],
            "image/png": "[encoded data removed]"
          },
          "metadata": {}
        },
        {
          "output_type": "stream",
          "name": "stdout",
          "text": [
            "\n",
            "Dari dendrogram, terlihat ada lonjakan besar di bagian atas, yang menandakan bahwa memotong pohon pada titik tersebut (misalnya menjadi 4 cluster) adalah keputusan yang wajar.\n",
            "Ini mengindikasikan bahwa data memiliki struktur hierarki yang kuat, dan pengelompokan berdasarkan jarak antar titik cukup jelas.\n"
          ]
        }
      ]
    },
    {
      "cell_type": "code",
      "source": [
        "# Sudah tersedia: X_pca\n",
        "def cluster_scatter(X_2d, labels, title):\n",
        "    plt.figure(figsize=(6,4))\n",
        "    plt.scatter(X_2d[:, 0], X_2d[:, 1], c=labels, cmap='tab10', s=30)\n",
        "    plt.title(f\"{title} - PCA\")\n",
        "    plt.xlabel(\"PCA 1\")\n",
        "    plt.ylabel(\"PCA 2\")\n",
        "    plt.grid(True)\n",
        "    plt.show()\n",
        "\n",
        "cluster_scatter(X_pca, kmeans_labels, \"KMeans\")\n",
        "\n",
        "print(\"\\nVisualisasi 2D hasil PCA menunjukkan bahwa sebagian besar titik data terbagi ke dalam kelompok warna berbeda dengan cukup baik. Meskipun ada sedikit tumpang tindih antara beberapa cluster,\")\n",
        "print(\"pola umum tetap terlihat bahwa model KMeans berhasil mengelompokkan data berdasarkan karakteristik utama yang diekstrak oleh PCA.\")"
      ],
      "metadata": {
        "colab": {
          "base_uri": "https://localhost:8080/",
          "height": 462
        },
        "id": "9FXCViYqVZWc",
        "outputId": "dca2cade-549b-430d-eaeb-547b029bfb5e"
      },
      "execution_count": 57,
      "outputs": [
        {
          "output_type": "display_data",
          "data": {
            "text/plain": [
              "<Figure size 600x400 with 1 Axes>"
            ],
            "image/png": "[encoded data removed]"
          },
          "metadata": {}
        },
        {
          "output_type": "stream",
          "name": "stdout",
          "text": [
            "\n",
            "Visualisasi 2D hasil PCA menunjukkan bahwa sebagian besar titik data terbagi ke dalam kelompok warna berbeda dengan cukup baik. Meskipun ada sedikit tumpang tindih antara beberapa cluster,\n",
            "pola umum tetap terlihat bahwa model KMeans berhasil mengelompokkan data berdasarkan karakteristik utama yang diekstrak oleh PCA.\n"
          ]
        }
      ]
    },
    {
      "cell_type": "markdown",
      "source": [
        "## 1. Jika algoritma K-Means menghasilkan nilai silhouette score rendah (0.3) meskipun elbow method menunjukkan K=5 sebagai optimal pada dataset ini, faktor apa yang menyebabkan inkonsistensi ini? Bagaimana strategi validasi alternatif (misal: analisis gap statistic atau validasi stabilitas cluster via bootstrapping) dapat mengatasi masalah ini, dan mengapa distribusi data non-spherical menjadi akar masalahnya?\n",
        "\n",
        "Meskipun elbow method menunjukkan K=5 sebagai optimal berdasarkan Within-Cluster Sum of Squares (WCSS), nilai silhouette score yang rendah (0.3) mengindikasikan bahwa data tidak terpisah dengan baik secara alami. Penyebab utamanya:\n",
        "\n",
        "- Distribusi data non-spherical (contoh: bentuk memanjang, berbentuk cincin) membuat KMeans gagal menangkap bentuk asli cluster karena asumsi dasarnya adalah cluster berbentuk bulat (spherical).\n",
        "- Overlapping cluster atau persebaran tidak merata menyebabkan centroid menjadi tidak representatif.\n",
        "\n",
        "Strategi Validasi Alternatif:\n",
        "- Gap Statistic: Membandingkan inertia dengan data acak untuk mengukur seberapa besar cluster yang ditemukan lebih baik dari data acak.\n",
        "- Stability via Bootstrapping: Melakukan clustering berulang-ulang di subset acak dan menghitung konsistensi hasil label.\n",
        "\n",
        "Distribusi non-spherical menyebabkan inkonsistensi karena KMeans mengasumsikan variansi yang seragam di semua arah.\n",
        "\n",
        "---\n",
        "\n",
        "## 2. Dalam dataset dengan campuran fitur numerik (Quantity, UnitPrice) dan kategorikal high-cardinality (Description), metode preprocessing apa yang efektif untuk menyelaraskan skala dan merepresentasikan fitur teks sebelum clustering? Jelaskan risiko menggunakan One-Hot Encoding untuk Description, dan mengapa teknik seperti TF-IDF atau embedding berdimensi rendah (UMAP) lebih robust untuk mempertahankan struktur cluster!\n",
        "\n",
        "Dalam dataset seperti ini, kita menghadapi campuran fitur numerik (Quantity, UnitPrice) dan kategorikal teks (Description) dengan ribuan nilai unik.\n",
        "\n",
        "Preprocessing yang Efektif:\n",
        "- Numerik: Gunakan StandardScaler atau RobustScaler untuk menyeimbangkan skala.\n",
        "- Kategorikal Teks:\n",
        "  - Hindari One-Hot Encoding karena menghasilkan dimensi sangat besar dan sparsity.\n",
        "  - Gunakan TF-IDF untuk representasi berdasarkan frekuensi informasi kata.\n",
        "  - Gunakan UMAP atau SVD untuk reduksi dimensi dan menjaga struktur semantik.\n",
        "\n",
        "Risiko One-Hot Encoding:\n",
        "- Menyebabkan curse of dimensionality\n",
        "- Struktur semantik antar kata (contoh: \"gift bag\" dan \"gift box\") tidak tertangkap\n",
        "\n",
        "TF-IDF atau UMAP lebih robust karena menangkap konteks teks dan menghindari sparsity ekstrem.\n",
        "\n",
        "---\n",
        "\n",
        "## 3. Hasil clustering dengan DBSCAN sangat sensitif terhadap parameter epsilon—bagaimana menentukan nilai optimal epsilon secara adaptif untuk memisahkan cluster padat dari noise pada data transaksi yang tidak seimbang (misal: 90% pelanggan dari UK)? Jelaskan peran k-distance graph dan kuartil ke-3 dalam automasi parameter, serta mengapa MinPts harus disesuaikan berdasarkan kerapatan regional!\n",
        "\n",
        "DBSCAN sangat sensitif terhadap epsilon (ε) dan min_samples (MinPts). Dalam dataset tidak seimbang (misal: 90% pelanggan UK), kesalahan parameter membuat cluster besar terpecah atau noise bertambah.\n",
        "\n",
        "Menentukan ε Secara Adaptif:\n",
        "1. Hitung jarak ke tetangga ke-k (k-distance) untuk setiap titik.\n",
        "2. Plot grafik k-distance dan cari \"elbow\" → titik perubahan tajam.\n",
        "3. Gunakan kuartil ke-3 atau threshold adaptif dari grafik.\n",
        "\n",
        "Menyesuaikan MinPts:\n",
        "- Untuk data berdimensi tinggi, aturan umum: MinPts ≈ D + 1, di mana D = jumlah fitur.\n",
        "- Untuk dataset tidak seimbang, MinPts disesuaikan per region berdasarkan kerapatan lokal.\n",
        "\n",
        "K-distance graph membantu deteksi otomatis epsilon terbaik, sementara MinPts menghindari over-fragmentation.\n",
        "\n",
        "---\n",
        "\n",
        "## 4. Jika analisis post-clustering mengungkapkan overlap signifikan antara cluster \"high-value customers\" dan \"bulk buyers\" berdasarkan total pengeluaran, bagaimana teknik semi-supervised (contoh: constrained clustering) atau integrasi metric learning (Mahalanobis distance) dapat memperbaiki pemisahan cluster? Jelaskan tantangan dalam mempertahankan interpretabilitas bisnis saat menggunakan pendekatan non-Euclidean!\n",
        "\n",
        "Overlap antara \"high-value customers\" dan \"bulk buyers\" bisa terjadi karena keduanya punya nilai total belanja tinggi, tetapi dengan motivasi berbeda.\n",
        "\n",
        "Solusi:\n",
        "- Constrained Clustering (Semi-Supervised): Gunakan prior knowledge sebagai constraint:\n",
        "  - Must-link: dua customer harus dalam satu cluster\n",
        "  - Cannot-link: dua customer tidak boleh dalam satu cluster\n",
        "- Metric Learning (Mahalanobis Distance):\n",
        "  - Memperhatikan korelasi antar fitur\n",
        "  - Jarak antar data disesuaikan agar representasi antar cluster makin tajam\n",
        "\n",
        "Tantangan:\n",
        "- Interpretabilitas bisnis: Mahalanobis sulit dijelaskan ke pihak non-teknis karena tidak sejelas Euclidean.\n",
        "- Model bisa menjadi \"black-box\".\n",
        "\n",
        "Trade-off antara akurasi segmentasi dan interpretasi bisnis harus diperhatikan.\n",
        "\n",
        "---\n",
        "\n",
        "## 5. Bagaimana merancang temporal features dari InvoiceDate (misal: hari dalam seminggu, jam pembelian) untuk mengidentifikasi pola pembelian periodik (seperti transaksi pagi vs. malam)? Jelaskan risiko data leakage jika menggunakan agregasi temporal (misal: rata-rata pembelian bulanan) tanpa time-based cross-validation, dan mengapa lag features (pembelian 7 hari sebelumnya) dapat memperkenalkan noise pada cluster!\n",
        "\n",
        "InvoiceDate bisa digunakan untuk mengekstrak pola pembelian periodik:\n",
        "\n",
        "Teknik Feature Engineering:\n",
        "- Hari dalam minggu (Senin–Minggu): df['dayofweek'] = df['InvoiceDate'].dt.dayofweek\n",
        "- Jam pembelian: df['hour'] = df['InvoiceDate'].dt.hour\n",
        "- Periode (pagi/siang/malam): Bin berdasarkan jam\n",
        "- Lag Features: Jumlah transaksi/pembelian n hari sebelumnya\n",
        "\n",
        "Risiko Data Leakage:\n",
        "- Jika menggunakan agregasi seperti \"rata-rata pembelian bulanan\" tanpa time-based cross-validation, kita bisa menggunakan data masa depan untuk prediksi masa lalu → bias hasil.\n",
        "\n",
        "Risiko Lag Features:\n",
        "- Dalam clustering, lag bisa memperkenalkan noise karena urutan waktu bisa tidak konsisten (pembelian acak).\n",
        "\n",
        "Cross-validation berbasis waktu dan pertimbangan seasonal sangat penting saat menangani data temporal.\n",
        "\n",
        "---\n"
      ],
      "metadata": {
        "id": "x50yAG7gfarI"
      }
    }
  ]
}